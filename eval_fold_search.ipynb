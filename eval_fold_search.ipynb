{
 "cells": [
  {
   "cell_type": "code",
   "execution_count": 1,
   "metadata": {},
   "outputs": [],
   "source": [
    "import pickle\n",
    "import argparse\n",
    "import numpy as np\n",
    "import pandas as pd\n",
    "import matplotlib.pyplot as plt\n",
    "import seaborn as sns\n",
    "import collections as col\n",
    "from tqdm import tqdm"
   ]
  },
  {
   "cell_type": "code",
   "execution_count": 2,
   "metadata": {},
   "outputs": [],
   "source": [
    "def compute_curve(sens, thresholds = np.arange(0.0,1.05, 0.05)):\n",
    "    fracs = [0.0]\n",
    "    for thresh in thresholds:\n",
    "        frac = np.mean(sens >= thresh)\n",
    "        fracs.append(frac)\n",
    "    return pd.DataFrame({'Fraction of queries': fracs, 'Sensitivity to first FP': [1.0] + list(thresholds)})"
   ]
  },
  {
   "cell_type": "code",
   "execution_count": 3,
   "metadata": {},
   "outputs": [],
   "source": [
    "def compute_sensitivity(sorted_labels, query_labels):\n",
    "    ct_dict = col.Counter(query_labels)\n",
    "    \n",
    "    correct_counts = np.array([ct_dict[l] - 1 for l in query_labels])\n",
    "    # print(correct_counts)\n",
    "    # print(sorted_labels[:, :20])\n",
    "    correct = sorted_labels == query_labels[:, np.newaxis]\n",
    "    first_fp = np.argmin(correct, 1)\n",
    "    sensitivity = first_fp / correct_counts\n",
    "    return sensitivity"
   ]
  },
  {
   "cell_type": "code",
   "execution_count": 4,
   "metadata": {},
   "outputs": [],
   "source": [
    "pdb_to_scop = {}\n",
    "pdb_to_sfam = {}\n",
    "pdb_to_fold = {}\n",
    "with open('../mappings/dir.des.scope.2.01-stable.txt') as f:\n",
    "    for line in f:\n",
    "        if line[0] == '#':\n",
    "            continue\n",
    "        else:\n",
    "            l = line.strip().split('\\t')\n",
    "            _, cat, cls, pdbcd, desc = l\n",
    "            if cat == 'px':\n",
    "                pdb_to_scop[pdbcd] = cls\n",
    "                pdb_to_sfam[pdbcd] = '.'.join(cls.split('.')[:3])\n",
    "                pdb_to_fold[pdbcd] = '.'.join(cls.split('.')[:2])"
   ]
  },
  {
   "cell_type": "code",
   "execution_count": 5,
   "metadata": {},
   "outputs": [],
   "source": [
    "scop_counts = col.Counter(list(pdb_to_scop.values()))\n",
    "scop_sf_counts = col.Counter(['.'.join(s.split('.')[:3]) for s in pdb_to_scop.values()])\n",
    "scop_fold_counts = col.Counter(['.'.join(s.split('.')[:2]) for s in pdb_to_scop.values()])"
   ]
  },
  {
   "cell_type": "code",
   "execution_count": 6,
   "metadata": {},
   "outputs": [
    {
     "data": {
      "text/html": [
       "<div>\n",
       "<style scoped>\n",
       "    .dataframe tbody tr th:only-of-type {\n",
       "        vertical-align: middle;\n",
       "    }\n",
       "\n",
       "    .dataframe tbody tr th {\n",
       "        vertical-align: top;\n",
       "    }\n",
       "\n",
       "    .dataframe thead th {\n",
       "        text-align: right;\n",
       "    }\n",
       "</style>\n",
       "<table border=\"1\" class=\"dataframe\">\n",
       "  <thead>\n",
       "    <tr style=\"text-align: right;\">\n",
       "      <th></th>\n",
       "      <th>query</th>\n",
       "      <th>target</th>\n",
       "      <th>score</th>\n",
       "      <th>scop_query</th>\n",
       "      <th>scop_target</th>\n",
       "    </tr>\n",
       "  </thead>\n",
       "  <tbody>\n",
       "    <tr>\n",
       "      <th>0</th>\n",
       "      <td>d12asa_</td>\n",
       "      <td>d12asa_</td>\n",
       "      <td>1.000000</td>\n",
       "      <td>d.104.1.1</td>\n",
       "      <td>d.104.1.1</td>\n",
       "    </tr>\n",
       "    <tr>\n",
       "      <th>1</th>\n",
       "      <td>d12asa_</td>\n",
       "      <td>d1b8aa2</td>\n",
       "      <td>0.172446</td>\n",
       "      <td>d.104.1.1</td>\n",
       "      <td>d.104.1.1</td>\n",
       "    </tr>\n",
       "    <tr>\n",
       "      <th>2</th>\n",
       "      <td>d12asa_</td>\n",
       "      <td>d1nnha_</td>\n",
       "      <td>0.167075</td>\n",
       "      <td>d.104.1.1</td>\n",
       "      <td>d.104.1.1</td>\n",
       "    </tr>\n",
       "    <tr>\n",
       "      <th>3</th>\n",
       "      <td>d12asa_</td>\n",
       "      <td>d1eova2</td>\n",
       "      <td>0.136321</td>\n",
       "      <td>d.104.1.1</td>\n",
       "      <td>d.104.1.1</td>\n",
       "    </tr>\n",
       "    <tr>\n",
       "      <th>4</th>\n",
       "      <td>d12asa_</td>\n",
       "      <td>d1e1oa2</td>\n",
       "      <td>0.125144</td>\n",
       "      <td>d.104.1.1</td>\n",
       "      <td>d.104.1.1</td>\n",
       "    </tr>\n",
       "    <tr>\n",
       "      <th>...</th>\n",
       "      <td>...</td>\n",
       "      <td>...</td>\n",
       "      <td>...</td>\n",
       "      <td>...</td>\n",
       "      <td>...</td>\n",
       "    </tr>\n",
       "    <tr>\n",
       "      <th>42884018</th>\n",
       "      <td>d1zzwa_</td>\n",
       "      <td>d3gvoa_</td>\n",
       "      <td>0.001757</td>\n",
       "      <td>c.45.1.0</td>\n",
       "      <td>a.118.1.8</td>\n",
       "    </tr>\n",
       "    <tr>\n",
       "      <th>42884019</th>\n",
       "      <td>d1zzwa_</td>\n",
       "      <td>d1u6gc_</td>\n",
       "      <td>0.001658</td>\n",
       "      <td>c.45.1.0</td>\n",
       "      <td>a.118.1.2</td>\n",
       "    </tr>\n",
       "    <tr>\n",
       "      <th>42884020</th>\n",
       "      <td>d1zzwa_</td>\n",
       "      <td>d1daba_</td>\n",
       "      <td>0.001600</td>\n",
       "      <td>c.45.1.0</td>\n",
       "      <td>b.80.1.7</td>\n",
       "    </tr>\n",
       "    <tr>\n",
       "      <th>42884021</th>\n",
       "      <td>d1zzwa_</td>\n",
       "      <td>d1jtdb_</td>\n",
       "      <td>0.001562</td>\n",
       "      <td>c.45.1.0</td>\n",
       "      <td>b.69.5.2</td>\n",
       "    </tr>\n",
       "    <tr>\n",
       "      <th>42884022</th>\n",
       "      <td>d1zzwa_</td>\n",
       "      <td>d2omza2</td>\n",
       "      <td>0.001483</td>\n",
       "      <td>c.45.1.0</td>\n",
       "      <td>c.10.2.1</td>\n",
       "    </tr>\n",
       "  </tbody>\n",
       "</table>\n",
       "<p>42884023 rows × 5 columns</p>\n",
       "</div>"
      ],
      "text/plain": [
       "            query   target     score scop_query scop_target\n",
       "0         d12asa_  d12asa_  1.000000  d.104.1.1   d.104.1.1\n",
       "1         d12asa_  d1b8aa2  0.172446  d.104.1.1   d.104.1.1\n",
       "2         d12asa_  d1nnha_  0.167075  d.104.1.1   d.104.1.1\n",
       "3         d12asa_  d1eova2  0.136321  d.104.1.1   d.104.1.1\n",
       "4         d12asa_  d1e1oa2  0.125144  d.104.1.1   d.104.1.1\n",
       "...           ...      ...       ...        ...         ...\n",
       "42884018  d1zzwa_  d3gvoa_  0.001757   c.45.1.0   a.118.1.8\n",
       "42884019  d1zzwa_  d1u6gc_  0.001658   c.45.1.0   a.118.1.2\n",
       "42884020  d1zzwa_  d1daba_  0.001600   c.45.1.0    b.80.1.7\n",
       "42884021  d1zzwa_  d1jtdb_  0.001562   c.45.1.0    b.69.5.2\n",
       "42884022  d1zzwa_  d2omza2  0.001483   c.45.1.0    c.10.2.1\n",
       "\n",
       "[42884023 rows x 5 columns]"
      ]
     },
     "execution_count": 6,
     "metadata": {},
     "output_type": "execute_result"
    }
   ],
   "source": [
    "tfidf_res = pd.read_csv(f'data/scop40_201_tfidf_50000_search_results.csv')\n",
    "tfidf_res['scop_query'] = tfidf_res['query'].apply(lambda x: pdb_to_scop.get(x, '-.-.-.-'))\n",
    "tfidf_res['scop_target'] = tfidf_res['target'].apply(lambda x: pdb_to_scop.get(x, '-.-.-.-'))\n",
    "tfidf_res"
   ]
  },
  {
   "cell_type": "code",
   "execution_count": 7,
   "metadata": {},
   "outputs": [],
   "source": [
    "tfidf_res = tfidf_res[~(tfidf_res['query'] == tfidf_res['target'])]\n",
    "tfidf_res = tfidf_res.drop_duplicates(['query', 'target'])"
   ]
  },
  {
   "cell_type": "code",
   "execution_count": 8,
   "metadata": {},
   "outputs": [
    {
     "name": "stdout",
     "output_type": "stream",
     "text": [
      "Top1 accuracy (family): 0.7000557103064067\n",
      "Top1 accuracy (superfamily): 0.8729805013927576\n",
      "Top1 accuracy (fold): 0.8924791086350975\n"
     ]
    }
   ],
   "source": [
    "top1 = tfidf_res.groupby('query').nth(0)\n",
    "correct_fam = np.mean(top1['scop_query'] == top1['scop_target'])\n",
    "correct_sfam = np.mean(np.array(['.'.join(s.split('.')[:3]) for s in top1['scop_query']]) == np.array(['.'.join(s.split('.')[:3]) for s in top1['scop_target']]))\n",
    "correct_fold = np.mean(np.array(['.'.join(s.split('.')[:2]) for s in top1['scop_query']]) == np.array(['.'.join(s.split('.')[:2]) for s in top1['scop_target']]))\n",
    "print(f'Top1 accuracy (family): {correct_fam}')\n",
    "print(f'Top1 accuracy (superfamily): {correct_sfam}')\n",
    "print(f'Top1 accuracy (fold): {correct_fold}')"
   ]
  },
  {
   "cell_type": "code",
   "execution_count": 9,
   "metadata": {},
   "outputs": [],
   "source": [
    "tfidf_res['correct_fam'] = tfidf_res['scop_query'] == tfidf_res['scop_target']\n",
    "tfidf_res['correct_sfam'] = np.array(['.'.join(s.split('.')[:3]) for s in tfidf_res['scop_query']]) == np.array(['.'.join(s.split('.')[:3]) for s in tfidf_res['scop_target']])\n",
    "tfidf_res['correct_fold'] = np.array(['.'.join(s.split('.')[:2]) for s in tfidf_res['scop_query']]) == np.array(['.'.join(s.split('.')[:2]) for s in tfidf_res['scop_target']])"
   ]
  },
  {
   "cell_type": "code",
   "execution_count": 10,
   "metadata": {},
   "outputs": [],
   "source": [
    "topk_results = []\n",
    "for k in range(1,11):\n",
    "    correct_fam = tfidf_res.groupby('query')['correct_fam'].head(k).mean()\n",
    "    correct_sf = tfidf_res.groupby('query')['correct_sfam'].head(k).mean()\n",
    "    correct_fold = tfidf_res.groupby('query')['correct_fold'].head(k).mean()\n",
    "    topk_results.append([k, correct_fam, correct_sf, correct_fold])\n",
    "collapse_topk = pd.DataFrame(topk_results, columns=['k', 'family', 'superfamily', 'fold'])"
   ]
  },
  {
   "cell_type": "code",
   "execution_count": 11,
   "metadata": {},
   "outputs": [
    {
     "data": {
      "text/html": [
       "<div>\n",
       "<style scoped>\n",
       "    .dataframe tbody tr th:only-of-type {\n",
       "        vertical-align: middle;\n",
       "    }\n",
       "\n",
       "    .dataframe tbody tr th {\n",
       "        vertical-align: top;\n",
       "    }\n",
       "\n",
       "    .dataframe thead th {\n",
       "        text-align: right;\n",
       "    }\n",
       "</style>\n",
       "<table border=\"1\" class=\"dataframe\">\n",
       "  <thead>\n",
       "    <tr style=\"text-align: right;\">\n",
       "      <th></th>\n",
       "      <th>k</th>\n",
       "      <th>family</th>\n",
       "      <th>superfamily</th>\n",
       "      <th>fold</th>\n",
       "    </tr>\n",
       "  </thead>\n",
       "  <tbody>\n",
       "    <tr>\n",
       "      <th>0</th>\n",
       "      <td>1</td>\n",
       "      <td>0.700056</td>\n",
       "      <td>0.872981</td>\n",
       "      <td>0.892479</td>\n",
       "    </tr>\n",
       "    <tr>\n",
       "      <th>1</th>\n",
       "      <td>2</td>\n",
       "      <td>0.622228</td>\n",
       "      <td>0.819387</td>\n",
       "      <td>0.846462</td>\n",
       "    </tr>\n",
       "    <tr>\n",
       "      <th>2</th>\n",
       "      <td>3</td>\n",
       "      <td>0.567539</td>\n",
       "      <td>0.776787</td>\n",
       "      <td>0.808877</td>\n",
       "    </tr>\n",
       "    <tr>\n",
       "      <th>3</th>\n",
       "      <td>4</td>\n",
       "      <td>0.524708</td>\n",
       "      <td>0.742117</td>\n",
       "      <td>0.778329</td>\n",
       "    </tr>\n",
       "    <tr>\n",
       "      <th>4</th>\n",
       "      <td>5</td>\n",
       "      <td>0.490563</td>\n",
       "      <td>0.712624</td>\n",
       "      <td>0.752000</td>\n",
       "    </tr>\n",
       "    <tr>\n",
       "      <th>5</th>\n",
       "      <td>6</td>\n",
       "      <td>0.462284</td>\n",
       "      <td>0.688171</td>\n",
       "      <td>0.730399</td>\n",
       "    </tr>\n",
       "    <tr>\n",
       "      <th>6</th>\n",
       "      <td>7</td>\n",
       "      <td>0.438880</td>\n",
       "      <td>0.667362</td>\n",
       "      <td>0.712380</td>\n",
       "    </tr>\n",
       "    <tr>\n",
       "      <th>7</th>\n",
       "      <td>8</td>\n",
       "      <td>0.418900</td>\n",
       "      <td>0.648744</td>\n",
       "      <td>0.695673</td>\n",
       "    </tr>\n",
       "    <tr>\n",
       "      <th>8</th>\n",
       "      <td>9</td>\n",
       "      <td>0.401303</td>\n",
       "      <td>0.631735</td>\n",
       "      <td>0.680077</td>\n",
       "    </tr>\n",
       "    <tr>\n",
       "      <th>9</th>\n",
       "      <td>10</td>\n",
       "      <td>0.385540</td>\n",
       "      <td>0.616510</td>\n",
       "      <td>0.666485</td>\n",
       "    </tr>\n",
       "  </tbody>\n",
       "</table>\n",
       "</div>"
      ],
      "text/plain": [
       "    k    family  superfamily      fold\n",
       "0   1  0.700056     0.872981  0.892479\n",
       "1   2  0.622228     0.819387  0.846462\n",
       "2   3  0.567539     0.776787  0.808877\n",
       "3   4  0.524708     0.742117  0.778329\n",
       "4   5  0.490563     0.712624  0.752000\n",
       "5   6  0.462284     0.688171  0.730399\n",
       "6   7  0.438880     0.667362  0.712380\n",
       "7   8  0.418900     0.648744  0.695673\n",
       "8   9  0.401303     0.631735  0.680077\n",
       "9  10  0.385540     0.616510  0.666485"
      ]
     },
     "execution_count": 11,
     "metadata": {},
     "output_type": "execute_result"
    }
   ],
   "source": [
    "collapse_topk"
   ]
  },
  {
   "cell_type": "code",
   "execution_count": 12,
   "metadata": {},
   "outputs": [
    {
     "data": {
      "text/html": [
       "<div>\n",
       "<style scoped>\n",
       "    .dataframe tbody tr th:only-of-type {\n",
       "        vertical-align: middle;\n",
       "    }\n",
       "\n",
       "    .dataframe tbody tr th {\n",
       "        vertical-align: top;\n",
       "    }\n",
       "\n",
       "    .dataframe thead th {\n",
       "        text-align: right;\n",
       "    }\n",
       "</style>\n",
       "<table border=\"1\" class=\"dataframe\">\n",
       "  <thead>\n",
       "    <tr style=\"text-align: right;\">\n",
       "      <th></th>\n",
       "      <th>query</th>\n",
       "      <th>target</th>\n",
       "      <th>fident</th>\n",
       "      <th>alnlen</th>\n",
       "      <th>mismatch</th>\n",
       "      <th>gapopen</th>\n",
       "      <th>qstart</th>\n",
       "      <th>qend</th>\n",
       "      <th>tstart</th>\n",
       "      <th>tend</th>\n",
       "      <th>evalue</th>\n",
       "      <th>bits</th>\n",
       "      <th>scop_query</th>\n",
       "      <th>scop_target</th>\n",
       "    </tr>\n",
       "  </thead>\n",
       "  <tbody>\n",
       "    <tr>\n",
       "      <th>0</th>\n",
       "      <td>d2vmha_</td>\n",
       "      <td>d2vmha_</td>\n",
       "      <td>1.000</td>\n",
       "      <td>147</td>\n",
       "      <td>0</td>\n",
       "      <td>0</td>\n",
       "      <td>1</td>\n",
       "      <td>147</td>\n",
       "      <td>1</td>\n",
       "      <td>147</td>\n",
       "      <td>1.098000e-29</td>\n",
       "      <td>1343</td>\n",
       "      <td>b.18.1.33</td>\n",
       "      <td>b.18.1.33</td>\n",
       "    </tr>\n",
       "    <tr>\n",
       "      <th>1</th>\n",
       "      <td>d2vmha_</td>\n",
       "      <td>d2vnga1</td>\n",
       "      <td>0.260</td>\n",
       "      <td>166</td>\n",
       "      <td>107</td>\n",
       "      <td>0</td>\n",
       "      <td>2</td>\n",
       "      <td>147</td>\n",
       "      <td>1</td>\n",
       "      <td>166</td>\n",
       "      <td>2.230000e-11</td>\n",
       "      <td>550</td>\n",
       "      <td>b.18.1.33</td>\n",
       "      <td>b.18.1.33</td>\n",
       "    </tr>\n",
       "    <tr>\n",
       "      <th>2</th>\n",
       "      <td>d2vmha_</td>\n",
       "      <td>d1od3a_</td>\n",
       "      <td>0.129</td>\n",
       "      <td>145</td>\n",
       "      <td>105</td>\n",
       "      <td>0</td>\n",
       "      <td>3</td>\n",
       "      <td>147</td>\n",
       "      <td>9</td>\n",
       "      <td>129</td>\n",
       "      <td>2.588000e-04</td>\n",
       "      <td>244</td>\n",
       "      <td>b.18.1.33</td>\n",
       "      <td>b.18.1.10</td>\n",
       "    </tr>\n",
       "    <tr>\n",
       "      <th>3</th>\n",
       "      <td>d2vmha_</td>\n",
       "      <td>d1v0aa1</td>\n",
       "      <td>0.142</td>\n",
       "      <td>148</td>\n",
       "      <td>117</td>\n",
       "      <td>0</td>\n",
       "      <td>10</td>\n",
       "      <td>146</td>\n",
       "      <td>14</td>\n",
       "      <td>161</td>\n",
       "      <td>1.345000e-03</td>\n",
       "      <td>213</td>\n",
       "      <td>b.18.1.33</td>\n",
       "      <td>b.18.1.30</td>\n",
       "    </tr>\n",
       "    <tr>\n",
       "      <th>4</th>\n",
       "      <td>d2vmha_</td>\n",
       "      <td>d2i74a1</td>\n",
       "      <td>0.094</td>\n",
       "      <td>133</td>\n",
       "      <td>112</td>\n",
       "      <td>0</td>\n",
       "      <td>14</td>\n",
       "      <td>146</td>\n",
       "      <td>49</td>\n",
       "      <td>173</td>\n",
       "      <td>1.577000e-03</td>\n",
       "      <td>210</td>\n",
       "      <td>b.18.1.33</td>\n",
       "      <td>b.18.1.29</td>\n",
       "    </tr>\n",
       "  </tbody>\n",
       "</table>\n",
       "</div>"
      ],
      "text/plain": [
       "     query   target  fident  alnlen  mismatch  gapopen  qstart  qend  tstart  \\\n",
       "0  d2vmha_  d2vmha_   1.000     147         0        0       1   147       1   \n",
       "1  d2vmha_  d2vnga1   0.260     166       107        0       2   147       1   \n",
       "2  d2vmha_  d1od3a_   0.129     145       105        0       3   147       9   \n",
       "3  d2vmha_  d1v0aa1   0.142     148       117        0      10   146      14   \n",
       "4  d2vmha_  d2i74a1   0.094     133       112        0      14   146      49   \n",
       "\n",
       "   tend        evalue  bits scop_query scop_target  \n",
       "0   147  1.098000e-29  1343  b.18.1.33   b.18.1.33  \n",
       "1   166  2.230000e-11   550  b.18.1.33   b.18.1.33  \n",
       "2   129  2.588000e-04   244  b.18.1.33   b.18.1.10  \n",
       "3   161  1.345000e-03   213  b.18.1.33   b.18.1.30  \n",
       "4   173  1.577000e-03   210  b.18.1.33   b.18.1.29  "
      ]
     },
     "execution_count": 12,
     "metadata": {},
     "output_type": "execute_result"
    }
   ],
   "source": [
    "foldseek_results = pd.read_csv('/scratch/users/aderry/foldseek/results/rawoutput/foldseekaln201', sep='\\t', header=None, names='query,target,fident,alnlen,mismatch,gapopen,qstart,qend,tstart,tend,evalue,bits'.split(','))\n",
    "foldseek_results['query'] = foldseek_results['query'].str.split('.', expand=True).iloc[:, 0]\n",
    "foldseek_results['scop_query'] = foldseek_results['query'].apply(lambda x: pdb_to_scop.get(x, '-.-.-.-'))\n",
    "foldseek_results['target'] = foldseek_results['target'].str.split('.', expand=True).iloc[:, 0]\n",
    "foldseek_results['scop_target'] = foldseek_results['target'].apply(lambda x: pdb_to_scop.get(x, '-.-.-.-'))\n",
    "foldseek_results.head()"
   ]
  },
  {
   "cell_type": "code",
   "execution_count": 13,
   "metadata": {},
   "outputs": [
    {
     "data": {
      "text/plain": [
       "(4239407, 14)"
      ]
     },
     "execution_count": 13,
     "metadata": {},
     "output_type": "execute_result"
    }
   ],
   "source": [
    "foldseek_results = foldseek_results[~(foldseek_results['query'] == foldseek_results['target'])]\n",
    "foldseek_results = foldseek_results.drop_duplicates(['query', 'target'])\n",
    "foldseek_results.shape"
   ]
  },
  {
   "cell_type": "code",
   "execution_count": 14,
   "metadata": {},
   "outputs": [
    {
     "name": "stdout",
     "output_type": "stream",
     "text": [
      "Top1 accuracy (family): 0.6467361985254451\n",
      "Top1 accuracy (superfamily): 0.8761913324941557\n",
      "Top1 accuracy (fold): 0.9057723431037583\n"
     ]
    }
   ],
   "source": [
    "top1 = foldseek_results.groupby('query').nth(0)\n",
    "correct_fam = np.mean(top1['scop_query'] == top1['scop_target'])\n",
    "correct_sfam = np.mean(np.array(['.'.join(s.split('.')[:3]) for s in top1['scop_query']]) == np.array(['.'.join(s.split('.')[:3]) for s in top1['scop_target']]))\n",
    "correct_fold = np.mean(np.array(['.'.join(s.split('.')[:2]) for s in top1['scop_query']]) == np.array(['.'.join(s.split('.')[:2]) for s in top1['scop_target']]))\n",
    "print(f'Top1 accuracy (family): {correct_fam}')\n",
    "print(f'Top1 accuracy (superfamily): {correct_sfam}')\n",
    "print(f'Top1 accuracy (fold): {correct_fold}')"
   ]
  },
  {
   "cell_type": "code",
   "execution_count": 15,
   "metadata": {},
   "outputs": [],
   "source": [
    "foldseek_results['correct_fam'] = foldseek_results['scop_query'] == foldseek_results['scop_target']\n",
    "foldseek_results['correct_sfam'] = np.array(['.'.join(s.split('.')[:3]) for s in foldseek_results['scop_query']]) == np.array(['.'.join(s.split('.')[:3]) for s in foldseek_results['scop_target']])\n",
    "foldseek_results['correct_fold'] = np.array(['.'.join(s.split('.')[:2]) for s in foldseek_results['scop_query']]) == np.array(['.'.join(s.split('.')[:2]) for s in foldseek_results['scop_target']])"
   ]
  },
  {
   "cell_type": "code",
   "execution_count": 16,
   "metadata": {},
   "outputs": [],
   "source": [
    "topk_results = []\n",
    "for k in range(1,11):\n",
    "    correct_fam = foldseek_results.groupby('query')['correct_fam'].head(k).mean()\n",
    "    correct_sf = foldseek_results.groupby('query')['correct_sfam'].head(k).mean()\n",
    "    correct_fold = foldseek_results.groupby('query')['correct_fold'].head(k).mean()\n",
    "    topk_results.append([k, correct_fam, correct_sf, correct_fold])\n",
    "foldseek_topk = pd.DataFrame(topk_results, columns=['k', 'family', 'superfamily', 'fold'])"
   ]
  },
  {
   "cell_type": "code",
   "execution_count": 17,
   "metadata": {},
   "outputs": [],
   "source": [
    "foldseek_melted = foldseek_topk.melt('k', ['family', 'superfamily', 'fold'], var_name='level', value_name='precision')\n",
    "collapse_melted = collapse_topk.melt('k', ['family', 'superfamily', 'fold'], var_name='level', value_name='precision')\n",
    "combined_topk = pd.concat([foldseek_melted, collapse_melted])\n",
    "combined_topk['method'] = ['Foldseek']*len(foldseek_melted) + ['COLLAPSE-cluster-TFIDF']*len(collapse_melted)"
   ]
  },
  {
   "cell_type": "code",
   "execution_count": 18,
   "metadata": {},
   "outputs": [
    {
     "data": {
      "text/plain": [
       "Text(0, 0.5, 'Top-k precision')"
      ]
     },
     "execution_count": 18,
     "metadata": {},
     "output_type": "execute_result"
    },
    {
     "data": {
      "image/png": "[encoded data removed]",
      "text/plain": [
       "<Figure size 640x480 with 1 Axes>"
      ]
     },
     "metadata": {},
     "output_type": "display_data"
    }
   ],
   "source": [
    "sns.lineplot(x='k', y='precision', hue='level', data=combined_topk, style='method', markers=False, palette='Set2')\n",
    "sns.scatterplot(x='k', y='precision', hue='level', data=combined_topk, style='method', edgecolor=None, legend=False, palette='Set2')\n",
    "plt.legend(loc=(1.01,0.6))\n",
    "plt.xticks(np.arange(1,11))\n",
    "plt.ylabel('Top-k precision')\n",
    "# plt.savefig('figures/topk_precision.svg', dpi=300, bbox_inches='tight', format='svg')"
   ]
  },
  {
   "cell_type": "code",
   "execution_count": null,
   "metadata": {},
   "outputs": [],
   "source": []
  }
 ],
 "metadata": {
  "kernelspec": {
   "display_name": "Python 3 (ipykernel)",
   "language": "python",
   "name": "python3"
  },
  "language_info": {
   "codemirror_mode": {
    "name": "ipython",
    "version": 3
   },
   "file_extension": ".py",
   "mimetype": "text/x-python",
   "name": "python",
   "nbconvert_exporter": "python",
   "pygments_lexer": "ipython3",
   "version": "3.10.12"
  },
  "vscode": {
   "interpreter": {
    "hash": "e3264f0fad8f9586b6ae9d9b07619570ad1e7a43af957c713423924c2d594c83"
   }
  }
 },
 "nbformat": 4,
 "nbformat_minor": 4
}
