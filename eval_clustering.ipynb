{
 "cells": [
  {
   "cell_type": "code",
   "execution_count": 1,
   "metadata": {},
   "outputs": [],
   "source": [
    "import pandas as pd\n",
    "import numpy as np\n",
    "import os\n",
    "from tqdm import tqdm\n",
    "import matplotlib.pyplot as plt\n",
    "import seaborn as sns\n",
    "from atom3d.datasets import load_dataset\n",
    "import collections as col\n",
    "from collapse import atom_info\n",
    "from collapse.utils import deserialize, deserialize\n",
    "from sklearn.metrics import silhouette_score, calinski_harabasz_score\n",
    "from sklearn.preprocessing import normalize"
   ]
  },
  {
   "cell_type": "code",
   "execution_count": 9,
   "metadata": {},
   "outputs": [],
   "source": [
    "data = deserialize('../COLLAPSE/data/datasets/pdb100_embeddings/pdb_embeddings.pkl')\n",
    "# data = deserialize('../COLLAPSE/data/datasets/scop40_embeddings/scop40_embeddings.pkl')"
   ]
  },
  {
   "cell_type": "code",
   "execution_count": 16,
   "metadata": {},
   "outputs": [
    {
     "data": {
      "text/html": [
       "<style>#sk-container-id-1 {color: black;}#sk-container-id-1 pre{padding: 0;}#sk-container-id-1 div.sk-toggleable {background-color: white;}#sk-container-id-1 label.sk-toggleable__label {cursor: pointer;display: block;width: 100%;margin-bottom: 0;padding: 0.3em;box-sizing: border-box;text-align: center;}#sk-container-id-1 label.sk-toggleable__label-arrow:before {content: \"▸\";float: left;margin-right: 0.25em;color: #696969;}#sk-container-id-1 label.sk-toggleable__label-arrow:hover:before {color: black;}#sk-container-id-1 div.sk-estimator:hover label.sk-toggleable__label-arrow:before {color: black;}#sk-container-id-1 div.sk-toggleable__content {max-height: 0;max-width: 0;overflow: hidden;text-align: left;background-color: #f0f8ff;}#sk-container-id-1 div.sk-toggleable__content pre {margin: 0.2em;color: black;border-radius: 0.25em;background-color: #f0f8ff;}#sk-container-id-1 input.sk-toggleable__control:checked~div.sk-toggleable__content {max-height: 200px;max-width: 100%;overflow: auto;}#sk-container-id-1 input.sk-toggleable__control:checked~label.sk-toggleable__label-arrow:before {content: \"▾\";}#sk-container-id-1 div.sk-estimator input.sk-toggleable__control:checked~label.sk-toggleable__label {background-color: #d4ebff;}#sk-container-id-1 div.sk-label input.sk-toggleable__control:checked~label.sk-toggleable__label {background-color: #d4ebff;}#sk-container-id-1 input.sk-hidden--visually {border: 0;clip: rect(1px 1px 1px 1px);clip: rect(1px, 1px, 1px, 1px);height: 1px;margin: -1px;overflow: hidden;padding: 0;position: absolute;width: 1px;}#sk-container-id-1 div.sk-estimator {font-family: monospace;background-color: #f0f8ff;border: 1px dotted black;border-radius: 0.25em;box-sizing: border-box;margin-bottom: 0.5em;}#sk-container-id-1 div.sk-estimator:hover {background-color: #d4ebff;}#sk-container-id-1 div.sk-parallel-item::after {content: \"\";width: 100%;border-bottom: 1px solid gray;flex-grow: 1;}#sk-container-id-1 div.sk-label:hover label.sk-toggleable__label {background-color: #d4ebff;}#sk-container-id-1 div.sk-serial::before {content: \"\";position: absolute;border-left: 1px solid gray;box-sizing: border-box;top: 0;bottom: 0;left: 50%;z-index: 0;}#sk-container-id-1 div.sk-serial {display: flex;flex-direction: column;align-items: center;background-color: white;padding-right: 0.2em;padding-left: 0.2em;position: relative;}#sk-container-id-1 div.sk-item {position: relative;z-index: 1;}#sk-container-id-1 div.sk-parallel {display: flex;align-items: stretch;justify-content: center;background-color: white;position: relative;}#sk-container-id-1 div.sk-item::before, #sk-container-id-1 div.sk-parallel-item::before {content: \"\";position: absolute;border-left: 1px solid gray;box-sizing: border-box;top: 0;bottom: 0;left: 50%;z-index: -1;}#sk-container-id-1 div.sk-parallel-item {display: flex;flex-direction: column;z-index: 1;position: relative;background-color: white;}#sk-container-id-1 div.sk-parallel-item:first-child::after {align-self: flex-end;width: 50%;}#sk-container-id-1 div.sk-parallel-item:last-child::after {align-self: flex-start;width: 50%;}#sk-container-id-1 div.sk-parallel-item:only-child::after {width: 0;}#sk-container-id-1 div.sk-dashed-wrapped {border: 1px dashed gray;margin: 0 0.4em 0.5em 0.4em;box-sizing: border-box;padding-bottom: 0.4em;background-color: white;}#sk-container-id-1 div.sk-label label {font-family: monospace;font-weight: bold;display: inline-block;line-height: 1.2em;}#sk-container-id-1 div.sk-label-container {text-align: center;}#sk-container-id-1 div.sk-container {/* jupyter's `normalize.less` sets `[hidden] { display: none; }` but bootstrap.min.css set `[hidden] { display: none !important; }` so we also need the `!important` here to be able to override the default hidden behavior on the sphinx rendered scikit-learn.org. See: https://github.com/scikit-learn/scikit-learn/issues/21755 */display: inline-block !important;position: relative;}#sk-container-id-1 div.sk-text-repr-fallback {display: none;}</style><div id=\"sk-container-id-1\" class=\"sk-top-container\"><div class=\"sk-text-repr-fallback\"><pre>PCA(n_components=&#x27;mle&#x27;, random_state=77)</pre><b>In a Jupyter environment, please rerun this cell to show the HTML representation or trust the notebook. <br />On GitHub, the HTML representation is unable to render, please try loading this page with nbviewer.org.</b></div><div class=\"sk-container\" hidden><div class=\"sk-item\"><div class=\"sk-estimator sk-toggleable\"><input class=\"sk-toggleable__control sk-hidden--visually\" id=\"sk-estimator-id-1\" type=\"checkbox\" checked><label for=\"sk-estimator-id-1\" class=\"sk-toggleable__label sk-toggleable__label-arrow\">PCA</label><div class=\"sk-toggleable__content\"><pre>PCA(n_components=&#x27;mle&#x27;, random_state=77)</pre></div></div></div></div></div>"
      ],
      "text/plain": [
       "PCA(n_components='mle', random_state=77)"
      ]
     },
     "execution_count": 16,
     "metadata": {},
     "output_type": "execute_result"
    }
   ],
   "source": [
    "from sklearn.decomposition import PCA\n",
    "pca = PCA(n_components='mle', random_state=77)\n",
    "pca.fit(data['embeddings'])"
   ]
  },
  {
   "cell_type": "code",
   "execution_count": 30,
   "metadata": {},
   "outputs": [
    {
     "data": {
      "text/plain": [
       "0.8991332923045592"
      ]
     },
     "execution_count": 30,
     "metadata": {},
     "output_type": "execute_result"
    }
   ],
   "source": [
    "pca.explained_variance_ratio_[:50].sum()"
   ]
  },
  {
   "cell_type": "code",
   "execution_count": 22,
   "metadata": {},
   "outputs": [
    {
     "data": {
      "text/plain": [
       "[<matplotlib.lines.Line2D at 0x7eff7d0e6770>]"
      ]
     },
     "execution_count": 22,
     "metadata": {},
     "output_type": "execute_result"
    },
    {
     "data": {
      "image/png": "[encoded data removed]",
      "text/plain": [
       "<Figure size 640x480 with 1 Axes>"
      ]
     },
     "metadata": {},
     "output_type": "display_data"
    }
   ],
   "source": [
    "plt.plot(range(pca.n_components_), pca.explained_variance_ratio_)"
   ]
  },
  {
   "cell_type": "code",
   "execution_count": 6,
   "metadata": {},
   "outputs": [],
   "source": [
    "res_df = pd.read_csv('./data/pdb100_cluster_tuning.csv')\n",
    "melted = res_df.melt('k', ['Within-cluster sum of squares', 'SCOP entropy', 'Folds per cluster', 'Samples per cluster'])"
   ]
  },
  {
   "cell_type": "code",
   "execution_count": 7,
   "metadata": {},
   "outputs": [
    {
     "data": {
      "text/html": [
       "<div>\n",
       "<style scoped>\n",
       "    .dataframe tbody tr th:only-of-type {\n",
       "        vertical-align: middle;\n",
       "    }\n",
       "\n",
       "    .dataframe tbody tr th {\n",
       "        vertical-align: top;\n",
       "    }\n",
       "\n",
       "    .dataframe thead th {\n",
       "        text-align: right;\n",
       "    }\n",
       "</style>\n",
       "<table border=\"1\" class=\"dataframe\">\n",
       "  <thead>\n",
       "    <tr style=\"text-align: right;\">\n",
       "      <th></th>\n",
       "      <th>k</th>\n",
       "      <th>Within-cluster sum of squares</th>\n",
       "      <th>SCOP entropy</th>\n",
       "      <th>Families per cluster</th>\n",
       "      <th>Superfamilies per cluster</th>\n",
       "      <th>Folds per cluster</th>\n",
       "      <th>Samples per cluster</th>\n",
       "    </tr>\n",
       "  </thead>\n",
       "  <tbody>\n",
       "    <tr>\n",
       "      <th>0</th>\n",
       "      <td>20</td>\n",
       "      <td>190646.484375</td>\n",
       "      <td>3.836854</td>\n",
       "      <td>3573.100000</td>\n",
       "      <td>1488.100000</td>\n",
       "      <td>952.350000</td>\n",
       "      <td>751548.850000</td>\n",
       "    </tr>\n",
       "    <tr>\n",
       "      <th>1</th>\n",
       "      <td>100</td>\n",
       "      <td>146811.171875</td>\n",
       "      <td>3.737421</td>\n",
       "      <td>2874.200000</td>\n",
       "      <td>1217.230000</td>\n",
       "      <td>799.530000</td>\n",
       "      <td>150309.770000</td>\n",
       "    </tr>\n",
       "    <tr>\n",
       "      <th>2</th>\n",
       "      <td>1000</td>\n",
       "      <td>108250.812500</td>\n",
       "      <td>3.457287</td>\n",
       "      <td>1108.136000</td>\n",
       "      <td>545.540000</td>\n",
       "      <td>389.506000</td>\n",
       "      <td>15030.977000</td>\n",
       "    </tr>\n",
       "    <tr>\n",
       "      <th>3</th>\n",
       "      <td>5000</td>\n",
       "      <td>87910.320312</td>\n",
       "      <td>3.087562</td>\n",
       "      <td>395.806400</td>\n",
       "      <td>235.337800</td>\n",
       "      <td>182.486800</td>\n",
       "      <td>3006.195400</td>\n",
       "    </tr>\n",
       "    <tr>\n",
       "      <th>4</th>\n",
       "      <td>10000</td>\n",
       "      <td>80443.671875</td>\n",
       "      <td>2.881502</td>\n",
       "      <td>235.115300</td>\n",
       "      <td>151.827600</td>\n",
       "      <td>122.114500</td>\n",
       "      <td>1503.097700</td>\n",
       "    </tr>\n",
       "    <tr>\n",
       "      <th>5</th>\n",
       "      <td>20000</td>\n",
       "      <td>73403.882812</td>\n",
       "      <td>2.652070</td>\n",
       "      <td>134.602750</td>\n",
       "      <td>93.936200</td>\n",
       "      <td>78.341250</td>\n",
       "      <td>751.548850</td>\n",
       "    </tr>\n",
       "    <tr>\n",
       "      <th>6</th>\n",
       "      <td>50000</td>\n",
       "      <td>65204.292969</td>\n",
       "      <td>2.320560</td>\n",
       "      <td>61.135840</td>\n",
       "      <td>46.537520</td>\n",
       "      <td>40.630880</td>\n",
       "      <td>300.619540</td>\n",
       "    </tr>\n",
       "    <tr>\n",
       "      <th>7</th>\n",
       "      <td>100000</td>\n",
       "      <td>88574.382812</td>\n",
       "      <td>2.396723</td>\n",
       "      <td>30.631163</td>\n",
       "      <td>23.341007</td>\n",
       "      <td>20.662515</td>\n",
       "      <td>153.454043</td>\n",
       "    </tr>\n",
       "  </tbody>\n",
       "</table>\n",
       "</div>"
      ],
      "text/plain": [
       "        k  Within-cluster sum of squares  SCOP entropy  Families per cluster  \\\n",
       "0      20                  190646.484375      3.836854           3573.100000   \n",
       "1     100                  146811.171875      3.737421           2874.200000   \n",
       "2    1000                  108250.812500      3.457287           1108.136000   \n",
       "3    5000                   87910.320312      3.087562            395.806400   \n",
       "4   10000                   80443.671875      2.881502            235.115300   \n",
       "5   20000                   73403.882812      2.652070            134.602750   \n",
       "6   50000                   65204.292969      2.320560             61.135840   \n",
       "7  100000                   88574.382812      2.396723             30.631163   \n",
       "\n",
       "   Superfamilies per cluster  Folds per cluster  Samples per cluster  \n",
       "0                1488.100000         952.350000        751548.850000  \n",
       "1                1217.230000         799.530000        150309.770000  \n",
       "2                 545.540000         389.506000         15030.977000  \n",
       "3                 235.337800         182.486800          3006.195400  \n",
       "4                 151.827600         122.114500          1503.097700  \n",
       "5                  93.936200          78.341250           751.548850  \n",
       "6                  46.537520          40.630880           300.619540  \n",
       "7                  23.341007          20.662515           153.454043  "
      ]
     },
     "execution_count": 7,
     "metadata": {},
     "output_type": "execute_result"
    }
   ],
   "source": [
    "res_df"
   ]
  },
  {
   "cell_type": "code",
   "execution_count": 31,
   "metadata": {},
   "outputs": [
    {
     "data": {
      "text/plain": [
       "<Figure size 300x700 with 0 Axes>"
      ]
     },
     "metadata": {},
     "output_type": "display_data"
    },
    {
     "data": {
      "image/png": "[encoded data removed]",
      "text/plain": [
       "<Figure size 400x800 with 4 Axes>"
      ]
     },
     "metadata": {},
     "output_type": "display_data"
    }
   ],
   "source": [
    "sns.set(context='paper', style='white')\n",
    "plt.figure(figsize=(3,7))\n",
    "g = sns.FacetGrid(melted, row='variable', sharex=True, sharey=False, height=2, aspect=2.0, palette='tab20')\n",
    "g.map(sns.scatterplot, 'k', 'value')\n",
    "g.map(sns.lineplot, 'k', 'value')\n",
    "g.set_titles('{row_name}')\n",
    "g.set(ylabel='')\n",
    "plt.xscale('log')\n",
    "plt.xlabel('k')\n",
    "plt.savefig('./data/pdb100_cluster_tuning.svg', dpi=300, bbox_inches='tight', format='svg')\n",
    "plt.show()"
   ]
  },
  {
   "cell_type": "code",
   "execution_count": 2,
   "metadata": {},
   "outputs": [],
   "source": [
    "columns = ['pdb', 'chain', 'resolution', 'ligand', 'lig_chain', 'ligand_resids', 'catalytic_resids', 'ec_number', 'GO_terms', 'ligand_resnum', 'length']\n",
    "data = []\n",
    "pdbres_to_ligands = col.defaultdict(dict)\n",
    "pdbres_to_catres = col.defaultdict(dict)\n",
    "with open('../BioLiP/BioLiP.txt') as f:\n",
    "    for line in f:\n",
    "        pdb, chain, resolution, _, ligand, lig_chain, _, sites_pdbnum, sites_renum, catalytic_pdbnum, catalytic_renum, ec_number, go_terms, _, _, _, _, _, _, ligand_resnum, seq = line.strip().split('\\t')\n",
    "        data.append([pdb, chain, resolution, ligand, lig_chain, sites_pdbnum.split(), catalytic_pdbnum.split(), ec_number, go_terms, ligand_resnum, len(seq)])\n",
    "        for res in sites_pdbnum.split():\n",
    "            if res not in pdbres_to_ligands[pdb + chain]:\n",
    "                pdbres_to_ligands[pdb + chain][res] = []\n",
    "            pdbres_to_ligands[pdb + chain][res].append(ligand)\n",
    "        for res in catalytic_pdbnum.split():\n",
    "            if res not in pdbres_to_catres[pdb + chain]:\n",
    "                pdbres_to_catres[pdb + chain][res] = []\n",
    "            pdbres_to_catres[pdb + chain][res].append(ligand)\n",
    "biolip = pd.DataFrame(data, columns=columns)"
   ]
  },
  {
   "cell_type": "code",
   "execution_count": 109,
   "metadata": {},
   "outputs": [
    {
     "data": {
      "text/html": [
       "<div>\n",
       "<style scoped>\n",
       "    .dataframe tbody tr th:only-of-type {\n",
       "        vertical-align: middle;\n",
       "    }\n",
       "\n",
       "    .dataframe tbody tr th {\n",
       "        vertical-align: top;\n",
       "    }\n",
       "\n",
       "    .dataframe thead th {\n",
       "        text-align: right;\n",
       "    }\n",
       "</style>\n",
       "<table border=\"1\" class=\"dataframe\">\n",
       "  <thead>\n",
       "    <tr style=\"text-align: right;\">\n",
       "      <th></th>\n",
       "      <th>pdb</th>\n",
       "      <th>chain</th>\n",
       "      <th>resolution</th>\n",
       "      <th>ligand</th>\n",
       "      <th>lig_chain</th>\n",
       "      <th>ligand_resids</th>\n",
       "      <th>catalytic_resids</th>\n",
       "      <th>ec_number</th>\n",
       "      <th>GO_terms</th>\n",
       "      <th>ligand_resnum</th>\n",
       "      <th>length</th>\n",
       "    </tr>\n",
       "  </thead>\n",
       "  <tbody>\n",
       "    <tr>\n",
       "      <th>0</th>\n",
       "      <td>101m</td>\n",
       "      <td>A</td>\n",
       "      <td>2.07</td>\n",
       "      <td>HEM</td>\n",
       "      <td>A</td>\n",
       "      <td>[F43, R45, V68, S92, H93, H97, I99, Y103]</td>\n",
       "      <td>[]</td>\n",
       "      <td></td>\n",
       "      <td>0005344,0015671,0019825,0020037,0046872,0071588</td>\n",
       "      <td>155</td>\n",
       "      <td>154</td>\n",
       "    </tr>\n",
       "    <tr>\n",
       "      <th>1</th>\n",
       "      <td>102m</td>\n",
       "      <td>A</td>\n",
       "      <td>1.84</td>\n",
       "      <td>HEM</td>\n",
       "      <td>A</td>\n",
       "      <td>[F43, R45, T67, L89, S92, H93, H97, I99, Y103]</td>\n",
       "      <td>[]</td>\n",
       "      <td></td>\n",
       "      <td>0005344,0015671,0019825,0020037,0046872,0071588</td>\n",
       "      <td>155</td>\n",
       "      <td>154</td>\n",
       "    </tr>\n",
       "    <tr>\n",
       "      <th>2</th>\n",
       "      <td>103m</td>\n",
       "      <td>A</td>\n",
       "      <td>2.07</td>\n",
       "      <td>HEM</td>\n",
       "      <td>A</td>\n",
       "      <td>[F43, R45, S92, H93, H97, I99, Y103]</td>\n",
       "      <td>[]</td>\n",
       "      <td></td>\n",
       "      <td>0005344,0015671,0019825,0020037,0046872,0071588</td>\n",
       "      <td>155</td>\n",
       "      <td>154</td>\n",
       "    </tr>\n",
       "    <tr>\n",
       "      <th>3</th>\n",
       "      <td>104m</td>\n",
       "      <td>A</td>\n",
       "      <td>1.71</td>\n",
       "      <td>HEM</td>\n",
       "      <td>A</td>\n",
       "      <td>[F43, R45, V68, S92, H93, H97, I99, Y103, F138]</td>\n",
       "      <td>[]</td>\n",
       "      <td></td>\n",
       "      <td>0005344,0015671,0019825,0020037,0046872,0071588</td>\n",
       "      <td>155</td>\n",
       "      <td>153</td>\n",
       "    </tr>\n",
       "    <tr>\n",
       "      <th>4</th>\n",
       "      <td>105m</td>\n",
       "      <td>A</td>\n",
       "      <td>2.02</td>\n",
       "      <td>HEM</td>\n",
       "      <td>A</td>\n",
       "      <td>[F43, R45, H64, V68, L89, H93, H97, I99]</td>\n",
       "      <td>[]</td>\n",
       "      <td></td>\n",
       "      <td>0005344,0015671,0019825,0020037,0046872,0071588</td>\n",
       "      <td>155</td>\n",
       "      <td>153</td>\n",
       "    </tr>\n",
       "    <tr>\n",
       "      <th>...</th>\n",
       "      <td>...</td>\n",
       "      <td>...</td>\n",
       "      <td>...</td>\n",
       "      <td>...</td>\n",
       "      <td>...</td>\n",
       "      <td>...</td>\n",
       "      <td>...</td>\n",
       "      <td>...</td>\n",
       "      <td>...</td>\n",
       "      <td>...</td>\n",
       "      <td>...</td>\n",
       "    </tr>\n",
       "    <tr>\n",
       "      <th>820318</th>\n",
       "      <td>9xim</td>\n",
       "      <td>C</td>\n",
       "      <td>2.4</td>\n",
       "      <td>MN</td>\n",
       "      <td>C</td>\n",
       "      <td>[E181, E217, D245, D292]</td>\n",
       "      <td>[H54, D57, M88, E181, K183, E217, H220, D245, ...</td>\n",
       "      <td>5.3.1.5</td>\n",
       "      <td>0000287,0005737,0005975,0009045,0016853,004273...</td>\n",
       "      <td>395</td>\n",
       "      <td>391</td>\n",
       "    </tr>\n",
       "    <tr>\n",
       "      <th>820319</th>\n",
       "      <td>9xim</td>\n",
       "      <td>C</td>\n",
       "      <td>2.4</td>\n",
       "      <td>MN</td>\n",
       "      <td>C</td>\n",
       "      <td>[E217, H220, D255, D257]</td>\n",
       "      <td>[H54, D57, M88, E181, K183, E217, H220, D245, ...</td>\n",
       "      <td>5.3.1.5</td>\n",
       "      <td>0000287,0005737,0005975,0009045,0016853,004273...</td>\n",
       "      <td>396</td>\n",
       "      <td>391</td>\n",
       "    </tr>\n",
       "    <tr>\n",
       "      <th>820320</th>\n",
       "      <td>9xim</td>\n",
       "      <td>D</td>\n",
       "      <td>2.4</td>\n",
       "      <td>XLS</td>\n",
       "      <td>D</td>\n",
       "      <td>[H54, W137, E181, K183, H220, D292]</td>\n",
       "      <td>[H54, D57, M88, E181, K183, E217, H220, D245, ...</td>\n",
       "      <td>5.3.1.5</td>\n",
       "      <td>0000287,0005737,0005975,0009045,0016853,004273...</td>\n",
       "      <td>397</td>\n",
       "      <td>392</td>\n",
       "    </tr>\n",
       "    <tr>\n",
       "      <th>820321</th>\n",
       "      <td>9xim</td>\n",
       "      <td>D</td>\n",
       "      <td>2.4</td>\n",
       "      <td>MN</td>\n",
       "      <td>D</td>\n",
       "      <td>[E181, E217, D245, D292]</td>\n",
       "      <td>[H54, D57, M88, E181, K183, E217, H220, D245, ...</td>\n",
       "      <td>5.3.1.5</td>\n",
       "      <td>0000287,0005737,0005975,0009045,0016853,004273...</td>\n",
       "      <td>395</td>\n",
       "      <td>392</td>\n",
       "    </tr>\n",
       "    <tr>\n",
       "      <th>820322</th>\n",
       "      <td>9xim</td>\n",
       "      <td>D</td>\n",
       "      <td>2.4</td>\n",
       "      <td>MN</td>\n",
       "      <td>D</td>\n",
       "      <td>[E217, H220, D255, D257]</td>\n",
       "      <td>[H54, D57, M88, E181, K183, E217, H220, D245, ...</td>\n",
       "      <td>5.3.1.5</td>\n",
       "      <td>0000287,0005737,0005975,0009045,0016853,004273...</td>\n",
       "      <td>396</td>\n",
       "      <td>392</td>\n",
       "    </tr>\n",
       "  </tbody>\n",
       "</table>\n",
       "<p>820323 rows × 11 columns</p>\n",
       "</div>"
      ],
      "text/plain": [
       "         pdb chain resolution ligand lig_chain  \\\n",
       "0       101m     A       2.07    HEM         A   \n",
       "1       102m     A       1.84    HEM         A   \n",
       "2       103m     A       2.07    HEM         A   \n",
       "3       104m     A       1.71    HEM         A   \n",
       "4       105m     A       2.02    HEM         A   \n",
       "...      ...   ...        ...    ...       ...   \n",
       "820318  9xim     C        2.4     MN         C   \n",
       "820319  9xim     C        2.4     MN         C   \n",
       "820320  9xim     D        2.4    XLS         D   \n",
       "820321  9xim     D        2.4     MN         D   \n",
       "820322  9xim     D        2.4     MN         D   \n",
       "\n",
       "                                          ligand_resids  \\\n",
       "0             [F43, R45, V68, S92, H93, H97, I99, Y103]   \n",
       "1        [F43, R45, T67, L89, S92, H93, H97, I99, Y103]   \n",
       "2                  [F43, R45, S92, H93, H97, I99, Y103]   \n",
       "3       [F43, R45, V68, S92, H93, H97, I99, Y103, F138]   \n",
       "4              [F43, R45, H64, V68, L89, H93, H97, I99]   \n",
       "...                                                 ...   \n",
       "820318                         [E181, E217, D245, D292]   \n",
       "820319                         [E217, H220, D255, D257]   \n",
       "820320              [H54, W137, E181, K183, H220, D292]   \n",
       "820321                         [E181, E217, D245, D292]   \n",
       "820322                         [E217, H220, D255, D257]   \n",
       "\n",
       "                                         catalytic_resids ec_number  \\\n",
       "0                                                      []             \n",
       "1                                                      []             \n",
       "2                                                      []             \n",
       "3                                                      []             \n",
       "4                                                      []             \n",
       "...                                                   ...       ...   \n",
       "820318  [H54, D57, M88, E181, K183, E217, H220, D245, ...   5.3.1.5   \n",
       "820319  [H54, D57, M88, E181, K183, E217, H220, D245, ...   5.3.1.5   \n",
       "820320  [H54, D57, M88, E181, K183, E217, H220, D245, ...   5.3.1.5   \n",
       "820321  [H54, D57, M88, E181, K183, E217, H220, D245, ...   5.3.1.5   \n",
       "820322  [H54, D57, M88, E181, K183, E217, H220, D245, ...   5.3.1.5   \n",
       "\n",
       "                                                 GO_terms ligand_resnum  \\\n",
       "0         0005344,0015671,0019825,0020037,0046872,0071588          155    \n",
       "1         0005344,0015671,0019825,0020037,0046872,0071588          155    \n",
       "2         0005344,0015671,0019825,0020037,0046872,0071588          155    \n",
       "3         0005344,0015671,0019825,0020037,0046872,0071588          155    \n",
       "4         0005344,0015671,0019825,0020037,0046872,0071588          155    \n",
       "...                                                   ...           ...   \n",
       "820318  0000287,0005737,0005975,0009045,0016853,004273...          395    \n",
       "820319  0000287,0005737,0005975,0009045,0016853,004273...          396    \n",
       "820320  0000287,0005737,0005975,0009045,0016853,004273...          397    \n",
       "820321  0000287,0005737,0005975,0009045,0016853,004273...          395    \n",
       "820322  0000287,0005737,0005975,0009045,0016853,004273...          396    \n",
       "\n",
       "        length  \n",
       "0          154  \n",
       "1          154  \n",
       "2          154  \n",
       "3          153  \n",
       "4          153  \n",
       "...        ...  \n",
       "820318     391  \n",
       "820319     391  \n",
       "820320     392  \n",
       "820321     392  \n",
       "820322     392  \n",
       "\n",
       "[820323 rows x 11 columns]"
      ]
     },
     "execution_count": 109,
     "metadata": {},
     "output_type": "execute_result"
    }
   ],
   "source": [
    "biolip"
   ]
  },
  {
   "cell_type": "code",
   "execution_count": 110,
   "metadata": {},
   "outputs": [
    {
     "data": {
      "text/plain": [
       "(424206, 85332)"
      ]
     },
     "execution_count": 110,
     "metadata": {},
     "output_type": "execute_result"
    }
   ],
   "source": [
    "len(pdbres_to_ligands), len(pdbres_to_catres)"
   ]
  },
  {
   "cell_type": "code",
   "execution_count": 43,
   "metadata": {},
   "outputs": [
    {
     "data": {
      "text/plain": [
       "{'F43': ['HEM'],\n",
       " 'R45': ['HEM'],\n",
       " 'V68': ['HEM'],\n",
       " 'S92': ['HEM'],\n",
       " 'H93': ['HEM'],\n",
       " 'H97': ['HEM'],\n",
       " 'I99': ['HEM'],\n",
       " 'Y103': ['HEM']}"
      ]
     },
     "execution_count": 43,
     "metadata": {},
     "output_type": "execute_result"
    }
   ],
   "source": [
    "pdbres_to_ligands['101mA']"
   ]
  },
  {
   "cell_type": "code",
   "execution_count": 11,
   "metadata": {},
   "outputs": [
    {
     "data": {
      "text/plain": [
       "5722"
      ]
     },
     "execution_count": 11,
     "metadata": {},
     "output_type": "execute_result"
    }
   ],
   "source": [
    "dataset  = load_dataset('/scratch/users/aderry/pdb_clusters_50000/tmp_1', 'lmdb')\n",
    "len(dataset)"
   ]
  },
  {
   "cell_type": "code",
   "execution_count": 41,
   "metadata": {},
   "outputs": [
    {
     "data": {
      "text/plain": [
       "['200l', '101m', '201l', '102l', '102m']"
      ]
     },
     "execution_count": 41,
     "metadata": {},
     "output_type": "execute_result"
    }
   ],
   "source": [
    "dataset.ids()[:5]"
   ]
  },
  {
   "cell_type": "code",
   "execution_count": 3,
   "metadata": {},
   "outputs": [
    {
     "name": "stdout",
     "output_type": "stream",
     "text": [
      "9296 total scop nodes\n",
      "252822 chains with scop annotations\n"
     ]
    }
   ],
   "source": [
    "scop_names = {}\n",
    "pdb_to_scop = col.defaultdict(dict)\n",
    "with open('../mappings/dir.des.scope.2.08-stable.txt') as f:\n",
    "    for line in f:\n",
    "        if line[0] == '#':\n",
    "            continue\n",
    "        else:\n",
    "            l = line.strip().split('\\t')\n",
    "            _, cat, cls, pdbcd, desc = l\n",
    "            if cat in ['cl', 'cf', 'sf', 'fa']:\n",
    "                scop_names[cls] = f'{cls} ({desc})'\n",
    "            elif cat == 'px':\n",
    "                pdbc = pdbcd[1:6]\n",
    "                loc_range = desc.split()[-1].split(':')[-1]\n",
    "                if len(loc_range) == 0:\n",
    "                    pdb_to_scop[pdbc]['all'] = cls\n",
    "                else:\n",
    "                    loc_split = loc_range.split('-')\n",
    "                    try:\n",
    "                        if len(loc_split) == 2:\n",
    "                            start, end = [int(x) for x in loc_split]\n",
    "                        elif len(loc_split) == 3:\n",
    "                            start, end = int(''.join(loc_split[:2])), int(loc_split[-1])\n",
    "                        elif len(loc_split) == 4:\n",
    "                            start, end = int(''.join(loc_split[:2])), int(''.join(loc_split[2:]))\n",
    "                    except ValueError:\n",
    "                        continue\n",
    "                    for i in range(start, end+1):\n",
    "                        pdb_to_scop[pdbc][str(i)] = cls\n",
    "print(len(scop_names), 'total scop nodes')\n",
    "print(len(pdb_to_scop), 'chains with scop annotations')"
   ]
  },
  {
   "cell_type": "code",
   "execution_count": 4,
   "metadata": {},
   "outputs": [],
   "source": [
    "def get_scop(pdbc, resid):\n",
    "    pdbc = pdbc.lower()\n",
    "    scop_dict = pdb_to_scop[pdbc]\n",
    "    if 'all' in scop_dict:\n",
    "        return scop_dict['all']\n",
    "    resnum = resid[1:]\n",
    "    return scop_dict.get(resnum, 'N/A')"
   ]
  },
  {
   "cell_type": "code",
   "execution_count": 5,
   "metadata": {},
   "outputs": [
    {
     "name": "stderr",
     "output_type": "stream",
     "text": [
      "1 of 30: 100%|██████████| 5722/5722 [07:36<00:00, 12.54it/s]\n",
      "2 of 30: 100%|██████████| 5723/5723 [28:58<00:00,  3.29it/s]  \n",
      "3 of 30: 100%|██████████| 5723/5723 [13:52<00:00,  6.88it/s]  \n",
      "4 of 30: 100%|██████████| 5723/5723 [18:52<00:00,  5.06it/s]  \n",
      "5 of 30: 100%|██████████| 5723/5723 [09:52<00:00,  9.66it/s]\n",
      "6 of 30: 100%|██████████| 5723/5723 [15:25<00:00,  6.18it/s]  \n",
      "7 of 30: 100%|██████████| 5723/5723 [09:38<00:00,  9.90it/s]\n",
      "8 of 30: 100%|██████████| 5723/5723 [07:46<00:00, 12.27it/s]  \n",
      "9 of 30: 100%|██████████| 5723/5723 [07:24<00:00, 12.87it/s]\n",
      "10 of 30: 100%|██████████| 5723/5723 [09:25<00:00, 10.12it/s]\n",
      "11 of 30: 100%|██████████| 5723/5723 [09:42<00:00,  9.82it/s]  \n",
      "12 of 30: 100%|██████████| 5723/5723 [11:20<00:00,  8.41it/s]\n",
      "13 of 30: 100%|██████████| 5723/5723 [11:48<00:00,  8.08it/s] \n",
      "14 of 30: 100%|██████████| 5723/5723 [11:49<00:00,  8.07it/s]  \n",
      "15 of 30: 100%|██████████| 5723/5723 [20:05<00:00,  4.75it/s]  \n",
      "16 of 30: 100%|██████████| 5723/5723 [14:34<00:00,  6.54it/s] \n",
      "17 of 30: 100%|██████████| 5723/5723 [15:55<00:00,  5.99it/s]  \n",
      "18 of 30: 100%|██████████| 5723/5723 [13:51<00:00,  6.88it/s]  \n",
      "19 of 30: 100%|██████████| 5723/5723 [13:07<00:00,  7.27it/s]\n",
      "20 of 30: 100%|██████████| 5722/5722 [09:53<00:00,  9.64it/s]\n",
      "21 of 30: 100%|██████████| 5722/5722 [12:06<00:00,  7.87it/s]\n",
      "22 of 30: 100%|██████████| 5722/5722 [08:43<00:00, 10.93it/s]\n",
      "23 of 30: 100%|██████████| 5722/5722 [14:42<00:00,  6.48it/s]  \n",
      "24 of 30: 100%|██████████| 5722/5722 [09:24<00:00, 10.14it/s]  \n",
      "25 of 30: 100%|██████████| 5722/5722 [08:14<00:00, 11.56it/s]\n",
      "26 of 30: 100%|██████████| 5722/5722 [08:50<00:00, 10.78it/s]  \n",
      "27 of 30: 100%|██████████| 5722/5722 [12:15<00:00,  7.78it/s]  \n",
      "28 of 30: 100%|██████████| 5722/5722 [13:03<00:00,  7.30it/s]  \n",
      "29 of 30: 100%|██████████| 5722/5722 [13:28<00:00,  7.07it/s]\n",
      "30 of 30: 100%|██████████| 5722/5722 [24:23<00:00,  3.91it/s]  \n"
     ]
    }
   ],
   "source": [
    "cluster_aa = {c: {a:0 for a in atom_info.aa_abbr} for c in range(50000)}\n",
    "cluster_resids = {c: col.defaultdict(list) for c in range(50000)}\n",
    "cluster_ligands = col.defaultdict(list)\n",
    "cluster_bfactors = col.defaultdict(list)\n",
    "cluster_catres = col.defaultdict(list)\n",
    "cluster_scop = col.defaultdict(list)\n",
    "for n in range(1,31):\n",
    "    dataset  = load_dataset(f'/scratch/users/aderry/pdb_clusters_50000/tmp_{n}', 'lmdb')\n",
    "    for item in tqdm(dataset, desc=f'{n} of 30'):\n",
    "        pdbid = item['id']\n",
    "        clusters = item['clusters']\n",
    "        chains = item['chains']\n",
    "        resids = item['resids']\n",
    "        bfactors = item['confidence']\n",
    "        aas = [r[0] for r in resids]\n",
    "        for i, c in enumerate(clusters):\n",
    "            pdbc = pdbid + chains[i]\n",
    "            cluster_aa[c][aas[i]] += 1\n",
    "            cluster_resids[c][pdbc].append(resids[i])\n",
    "            cluster_bfactors[c].append(bfactors[i])\n",
    "            cluster_scop[c].append(get_scop(pdbc, resids[i]))\n",
    "            \n",
    "            ligs = pdbres_to_ligands[pdbc]\n",
    "            if resids[i] in ligs:\n",
    "                cluster_ligands[c].extend(ligs[resids[i]])\n",
    "                \n",
    "            ligs = pdbres_to_catres[pdbc]\n",
    "            if resids[i] in ligs:\n",
    "                cluster_catres[c].extend(ligs[resids[i]])"
   ]
  },
  {
   "cell_type": "code",
   "execution_count": 7,
   "metadata": {},
   "outputs": [],
   "source": [
    "from collapse.utils import serialize, deserialize\n",
    "serialize({'center_aa': cluster_aa, 'pdb_resids': cluster_resids, 'ligands': cluster_ligands, 'catalytic_residues': cluster_catres, 'bfactors': cluster_bfactors, 'SCOP': cluster_scop}, './data/cluster_50000_info.pkl')"
   ]
  },
  {
   "cell_type": "code",
   "execution_count": 2,
   "metadata": {},
   "outputs": [],
   "source": [
    "cluster_info = deserialize('./data/cluster_50000_info.pkl')"
   ]
  },
  {
   "cell_type": "code",
   "execution_count": 3,
   "metadata": {},
   "outputs": [],
   "source": [
    "cluster_stats = deserialize(f'./data/cluster_stats_50000.pkl')"
   ]
  },
  {
   "cell_type": "code",
   "execution_count": 7,
   "metadata": {},
   "outputs": [
    {
     "data": {
      "text/plain": [
       "dict_keys(['center_aa', 'scop'])"
      ]
     },
     "execution_count": 7,
     "metadata": {},
     "output_type": "execute_result"
    }
   ],
   "source": [
    "cluster_stats[2].keys()"
   ]
  },
  {
   "cell_type": "code",
   "execution_count": 3,
   "metadata": {},
   "outputs": [
    {
     "name": "stderr",
     "output_type": "stream",
     "text": [
      "100%|██████████| 50000/50000 [00:01<00:00, 41822.46it/s]"
     ]
    },
    {
     "name": "stdout",
     "output_type": "stream",
     "text": [
      "104863360 total environments\n"
     ]
    },
    {
     "name": "stderr",
     "output_type": "stream",
     "text": [
      "\n"
     ]
    }
   ],
   "source": [
    "import itertools\n",
    "from scipy.stats import entropy\n",
    "\n",
    "total_envs = 0\n",
    "aa_pairs = list(itertools.combinations(atom_info.aa_abbr[:20], 2))\n",
    "cluster_sizes = {}\n",
    "aa_entropy = []\n",
    "aa_submat = pd.DataFrame(np.zeros((20,20)), index=atom_info.aa_abbr[:20], columns=atom_info.aa_abbr[:20])\n",
    "aa_distributions = []\n",
    "for clust, aa_freqs in tqdm(cluster_info['center_aa'].items()):\n",
    "    cts = np.array(list(aa_freqs.values()))\n",
    "    total = cts.sum()\n",
    "    cluster_sizes[clust] = total\n",
    "    if total == 0:\n",
    "        continue\n",
    "    ent = entropy(cts / total)\n",
    "    aa_entropy.append(ent)\n",
    "    aa_distributions.append(cts / total)\n",
    "    total_envs += total\n",
    "    # for a1, a2 in aa_pairs:\n",
    "    #     val = (aa_freqs[a1] + aa_freqs[a2]) / total\n",
    "    #     aa_submat.loc[a1,a2] += val\n",
    "    #     aa_submat.loc[a2,a1] += val\n",
    "print(total_envs, 'total environments')"
   ]
  },
  {
   "cell_type": "code",
   "execution_count": 15,
   "metadata": {},
   "outputs": [
    {
     "data": {
      "text/plain": [
       "104863360"
      ]
     },
     "execution_count": 15,
     "metadata": {},
     "output_type": "execute_result"
    }
   ],
   "source": [
    "total_envs"
   ]
  },
  {
   "cell_type": "code",
   "execution_count": 6,
   "metadata": {},
   "outputs": [
    {
     "data": {
      "text/plain": [
       "([(2504, 187002),\n",
       "  (4138, 160392),\n",
       "  (1987, 147860),\n",
       "  (4068, 96556),\n",
       "  (22020, 93036),\n",
       "  (5431, 81634),\n",
       "  (40046, 19654),\n",
       "  (23138, 17504),\n",
       "  (21656, 14114),\n",
       "  (2350, 14110)],\n",
       " [(38162, 0),\n",
       "  (40980, 0),\n",
       "  (43153, 0),\n",
       "  (45022, 0),\n",
       "  (45582, 0),\n",
       "  (46000, 0),\n",
       "  (46741, 0),\n",
       "  (46872, 0),\n",
       "  (47200, 0),\n",
       "  (48910, 0)])"
      ]
     },
     "execution_count": 6,
     "metadata": {},
     "output_type": "execute_result"
    }
   ],
   "source": [
    "sorted(cluster_sizes.items(), key=lambda x: x[1], reverse=True)[:10], sorted(cluster_sizes.items(), key=lambda x: x[1], reverse=True)[-10:]"
   ]
  },
  {
   "cell_type": "code",
   "execution_count": 14,
   "metadata": {},
   "outputs": [
    {
     "data": {
      "text/plain": [
       "0.90872"
      ]
     },
     "execution_count": 14,
     "metadata": {},
     "output_type": "execute_result"
    }
   ],
   "source": [
    "(np.array(list(cluster_sizes.values())) < 4000).mean()"
   ]
  },
  {
   "cell_type": "code",
   "execution_count": 57,
   "metadata": {},
   "outputs": [
    {
     "data": {
      "text/plain": [
       "[('1bwo_A', 'G30'),\n",
       " ('1hsl_A', 'A213'),\n",
       " ('1jqi_A', 'A25'),\n",
       " ('1r42_A', 'A528'),\n",
       " ('1xmi_A', 'S589'),\n",
       " ('1yis_A', 'A44'),\n",
       " ('2fel_A', 'A39'),\n",
       " ('2fr1_A', 'A1493'),\n",
       " ('2hzl_A', 'A312'),\n",
       " ('2qdi_A', 'S88'),\n",
       " ('3b7a_A', 'S88'),\n",
       " ('3b87_A', 'S88'),\n",
       " ('3d0g_A', 'A528'),\n",
       " ('3i6v_A', 'A244'),\n",
       " ('3it4_B', 'C272'),\n",
       " ('3ivl_A', 'A378'),\n",
       " ('3lfu_A', 'A180'),\n",
       " ('3qkx_A', 'A15'),\n",
       " ('3tql_A', 'A248'),\n",
       " ('4a1f_A', 'C271'),\n",
       " ('4f7f_A', 'A85'),\n",
       " ('4neg_A', 'A34'),\n",
       " ('4p7y_A', 'A392'),\n",
       " ('4pow_A', 'A257'),\n",
       " ('4u8u_C', 'A97'),\n",
       " ('4zv2_A', 'A213'),\n",
       " ('5amb_A', 'A514'),\n",
       " ('5dic_A', 'A111'),\n",
       " ('5hc8_A', 'A206'),\n",
       " ('5hxq_A', 'A210'),\n",
       " ('5kin_B', 'A34'),\n",
       " ('5l9w_A', 'A210'),\n",
       " ('6ayh_A', 'A21'),\n",
       " ('6egr_A', 'A392'),\n",
       " ('6eu9_A', 'A324'),\n",
       " ('6ft2_A', 'A213'),\n",
       " ('6l6n_A', 'A349'),\n",
       " ('6mku_E', 'A213'),\n",
       " ('6ml0_A', 'A213'),\n",
       " ('6ml9_E', 'A213'),\n",
       " ('6mla_E', 'A213'),\n",
       " ('6mld_A', 'A213'),\n",
       " ('6mli_E', 'A213'),\n",
       " ('6mlj_A', 'A213'),\n",
       " ('6mln_E', 'A213'),\n",
       " ('6mlp_E', 'A213'),\n",
       " ('6r2n_A', 'A392'),\n",
       " ('6te6_A', 'A81'),\n",
       " ('7dhx_A', 'A528'),\n",
       " ('7dmu_A', 'A528'),\n",
       " ('7ms1_A', 'A27'),\n",
       " ('7r12_D', 'A528'),\n",
       " ('7rnn_D', 'A349'),\n",
       " ('7w9c_A', 'A528')]"
      ]
     },
     "execution_count": 57,
     "metadata": {},
     "output_type": "execute_result"
    }
   ],
   "source": [
    "clusterer = deserialize(f'data/pdb100_cluster_fit_{k}.pkl')\n",
    "list(zip(np.array(data['pdbs'])[np.where(clusterer.labels_ == 2504)[0]], np.array(data['resids'])[np.where(clusterer.labels_ == 2504)[0]]))"
   ]
  },
  {
   "cell_type": "code",
   "execution_count": 65,
   "metadata": {},
   "outputs": [
    {
     "data": {
      "text/plain": [
       "(20, 20)"
      ]
     },
     "execution_count": 65,
     "metadata": {},
     "output_type": "execute_result"
    }
   ],
   "source": [
    "aa_distributions = np.array(aa_distributions)[:,:20]\n",
    "aa_corr = pd.DataFrame(np.corrcoef(aa_distributions.T), index=atom_info.aa_abbr[:20], columns=atom_info.aa_abbr[:20])\n",
    "aa_corr.shape"
   ]
  },
  {
   "cell_type": "code",
   "execution_count": 94,
   "metadata": {},
   "outputs": [
    {
     "data": {
      "image/png": "[encoded data removed]",
      "text/plain": [
       "<Figure size 300x200 with 1 Axes>"
      ]
     },
     "metadata": {},
     "output_type": "display_data"
    }
   ],
   "source": [
    "sns.set(context='paper', style='white')\n",
    "plt.figure(figsize=(3,2))\n",
    "plt.hist(cluster_sizes, bins=50)\n",
    "plt.xlabel('Cluster size')\n",
    "plt.ylabel('Number of clusters')\n",
    "plt.title('Cluster size distribution')\n",
    "plt.yscale('log')\n",
    "plt.savefig('./figures/cluster_size_dist.svg', dpi=300, bbox_inches='tight', format='svg')"
   ]
  },
  {
   "cell_type": "code",
   "execution_count": 36,
   "metadata": {},
   "outputs": [
    {
     "data": {
      "image/png": "[encoded data removed]",
      "text/plain": [
       "<Figure size 150x100 with 1 Axes>"
      ]
     },
     "metadata": {},
     "output_type": "display_data"
    }
   ],
   "source": [
    "sns.set(context='paper', style='white')\n",
    "plt.figure(figsize=(1.5,1))\n",
    "plt.hist(cluster_sizes, bins=np.linspace(0,20000,20))\n",
    "plt.yscale('log')\n",
    "plt.savefig('./figures/cluster_size_dist_inset.svg', dpi=300, bbox_inches='tight', format='svg')"
   ]
  },
  {
   "cell_type": "code",
   "execution_count": 66,
   "metadata": {},
   "outputs": [
    {
     "data": {
      "image/png": "[encoded data removed]",
      "text/plain": [
       "<Figure size 300x200 with 1 Axes>"
      ]
     },
     "metadata": {},
     "output_type": "display_data"
    }
   ],
   "source": [
    "sns.set(context='paper', style='white')\n",
    "plt.figure(figsize=(3,2))\n",
    "plt.hist(aa_entropy, bins=50)\n",
    "plt.xlabel('AA entropy')\n",
    "plt.ylabel('Number of clusters')\n",
    "plt.title('AA entropy per cluster')\n",
    "plt.savefig('./figures/cluster_aa_entropy.svg', dpi=300, bbox_inches='tight', format='svg')"
   ]
  },
  {
   "cell_type": "code",
   "execution_count": 47,
   "metadata": {},
   "outputs": [
    {
     "name": "stdout",
     "output_type": "stream",
     "text": [
      "2.9957322735539904\n"
     ]
    }
   ],
   "source": [
    "p = np.ones(20)*0.05\n",
    "print(entropy(p))"
   ]
  },
  {
   "cell_type": "code",
   "execution_count": 46,
   "metadata": {},
   "outputs": [
    {
     "name": "stdout",
     "output_type": "stream",
     "text": [
      "0.6931471805599453\n"
     ]
    }
   ],
   "source": [
    "p = np.array([0.5, 0.5] + [0]*18)\n",
    "print(entropy(p))"
   ]
  },
  {
   "cell_type": "code",
   "execution_count": 19,
   "metadata": {},
   "outputs": [
    {
     "data": {
      "text/plain": [
       "(4345, 25522)"
      ]
     },
     "execution_count": 19,
     "metadata": {},
     "output_type": "execute_result"
    }
   ],
   "source": [
    "(np.array(aa_entropy) == 0).sum(), (np.array(aa_entropy) < 0.7).sum()"
   ]
  },
  {
   "cell_type": "code",
   "execution_count": 92,
   "metadata": {},
   "outputs": [
    {
     "data": {
      "text/plain": [
       "<Figure size 640x480 with 0 Axes>"
      ]
     },
     "metadata": {},
     "output_type": "display_data"
    },
    {
     "data": {
      "text/plain": [
       "<Figure size 500x500 with 0 Axes>"
      ]
     },
     "metadata": {},
     "output_type": "display_data"
    },
    {
     "data": {
      "image/png": "[encoded data removed]",
      "text/plain": [
       "<Figure size 500x500 with 4 Axes>"
      ]
     },
     "metadata": {},
     "output_type": "display_data"
    }
   ],
   "source": [
    "plt.clf()\n",
    "g = sns.clustermap(aa_corr, cmap='Blues', figsize=(5,5))\n",
    "g.ax_row_dendrogram.set_visible(False)\n",
    "plt.yticks(None)\n",
    "plt.savefig('./figures/cluster_aa_cooccurence.svg', dpi=300, bbox_inches='tight', format='svg')"
   ]
  },
  {
   "cell_type": "code",
   "execution_count": 58,
   "metadata": {},
   "outputs": [
    {
     "data": {
      "image/png": "[encoded data removed]",
      "text/plain": [
       "<Figure size 300x200 with 1 Axes>"
      ]
     },
     "metadata": {},
     "output_type": "display_data"
    }
   ],
   "source": [
    "num_ligands = [len(np.unique(v)) for v in cluster_info['ligands'].values()] + [0] * (50000-len(cluster_info['ligands']))\n",
    "\n",
    "sns.set(context='paper', style='white')\n",
    "plt.figure(figsize=(3,2))\n",
    "plt.hist(num_ligands, bins=50)\n",
    "plt.xlabel('Number of unique ligands')\n",
    "plt.ylabel('Number of clusters')\n",
    "plt.title('Ligand specificity by cluster')\n",
    "plt.yscale('log')\n",
    "plt.savefig('./figures/cluster_num_unique_ligands.svg', dpi=300, bbox_inches='tight', format='svg')"
   ]
  },
  {
   "cell_type": "code",
   "execution_count": 34,
   "metadata": {},
   "outputs": [
    {
     "data": {
      "text/plain": [
       "[(49406, 20),\n",
       " (46974, 20),\n",
       " (29756, 20),\n",
       " (44327, 20),\n",
       " (26636, 20),\n",
       " (1414, 20),\n",
       " (3311, 20),\n",
       " (22823, 20),\n",
       " (13088, 20),\n",
       " (19471, 20),\n",
       " (9544, 20),\n",
       " (48095, 20),\n",
       " (27515, 20),\n",
       " (32228, 20),\n",
       " (15528, 20),\n",
       " (35500, 20),\n",
       " (5683, 20),\n",
       " (16745, 20),\n",
       " (28580, 20),\n",
       " (23105, 20)]"
      ]
     },
     "execution_count": 34,
     "metadata": {},
     "output_type": "execute_result"
    }
   ],
   "source": [
    "sorted({k:len(np.unique(v)) for k,v in cluster_info['ligands'].items()}.items(), key=lambda x: x[1], reverse=True)[8000:8020]"
   ]
  },
  {
   "cell_type": "code",
   "execution_count": 35,
   "metadata": {},
   "outputs": [
    {
     "data": {
      "text/plain": [
       "Counter({'NA': 137,\n",
       "         'K': 14,\n",
       "         'ARG': 2,\n",
       "         '7A8': 2,\n",
       "         '2BN': 2,\n",
       "         'FPP': 1,\n",
       "         'SNE': 1,\n",
       "         'ADP': 1,\n",
       "         'LEU': 1,\n",
       "         'HJM': 1,\n",
       "         'B2': 1,\n",
       "         'AG2': 1,\n",
       "         'MPG': 1,\n",
       "         'BP2': 1,\n",
       "         'ALA': 1,\n",
       "         'LA6': 1,\n",
       "         'V0A': 1,\n",
       "         'ILE': 1,\n",
       "         'PFF': 1,\n",
       "         'VAL': 1})"
      ]
     },
     "execution_count": 35,
     "metadata": {},
     "output_type": "execute_result"
    }
   ],
   "source": [
    "col.Counter(cluster_info['ligands'][5683])"
   ]
  },
  {
   "cell_type": "code",
   "execution_count": 5,
   "metadata": {},
   "outputs": [
    {
     "data": {
      "image/png": "[encoded data removed]",
      "text/plain": [
       "<Figure size 300x200 with 1 Axes>"
      ]
     },
     "metadata": {},
     "output_type": "display_data"
    }
   ],
   "source": [
    "mean_bfactors = [np.median(v) for v in cluster_info['bfactors'].values()]\n",
    "\n",
    "sns.set(context='paper', style='white')\n",
    "plt.figure(figsize=(3,2))\n",
    "plt.hist(mean_bfactors, bins=50)\n",
    "plt.xlabel('Median B-factor')\n",
    "plt.ylabel('Number of clusters')\n",
    "plt.title('Average B-factor by cluster')\n",
    "plt.yscale('log')\n",
    "plt.savefig('./figures/cluster_bfactors.svg', dpi=300, bbox_inches='tight', format='svg')"
   ]
  },
  {
   "cell_type": "code",
   "execution_count": 17,
   "metadata": {},
   "outputs": [
    {
     "data": {
      "text/plain": [
       "Text(14.166287500000005, 0.5, 'Count')"
      ]
     },
     "execution_count": 17,
     "metadata": {},
     "output_type": "execute_result"
    },
    {
     "data": {
      "text/plain": [
       "<Figure size 300x200 with 0 Axes>"
      ]
     },
     "metadata": {},
     "output_type": "display_data"
    },
    {
     "data": {
      "image/png": "[encoded data removed]",
      "text/plain": [
       "<Figure size 643.875x500 with 1 Axes>"
      ]
     },
     "metadata": {},
     "output_type": "display_data"
    }
   ],
   "source": [
    "clust = 23310\n",
    "\n",
    "mean_bfactors = [np.median(v) for v in cluster_info['bfactors'].values()]\n",
    "df = pd.DataFrame({'bfactor': mean_bfactors + cluster_info['bfactors'][clust], 'group': ['Cluster medians']*len(mean_bfactors) + [f'Cluster {clust}']*len(cluster_info['bfactors'][clust])})\n",
    "\n",
    "sns.set(context='paper', style='white')\n",
    "plt.figure(figsize=(3,2))\n",
    "sns.displot(data=df, x='bfactor', hue='group', bins=50, stat='probability', common_norm=False)\n",
    "plt.xlabel('B-factor')\n",
    "plt.ylabel('Count')\n",
    "# plt.yscale('log')"
   ]
  },
  {
   "cell_type": "code",
   "execution_count": null,
   "metadata": {},
   "outputs": [],
   "source": []
  }
 ],
 "metadata": {
  "kernelspec": {
   "display_name": "Python 3 (ipykernel)",
   "language": "python",
   "name": "python3"
  },
  "language_info": {
   "codemirror_mode": {
    "name": "ipython",
    "version": 3
   },
   "file_extension": ".py",
   "mimetype": "text/x-python",
   "name": "python",
   "nbconvert_exporter": "python",
   "pygments_lexer": "ipython3",
   "version": "3.10.12"
  }
 },
 "nbformat": 4,
 "nbformat_minor": 4
}
