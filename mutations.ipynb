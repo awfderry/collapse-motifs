{
 "cells": [
  {
   "cell_type": "code",
   "execution_count": 1,
   "metadata": {},
   "outputs": [],
   "source": [
    "import pandas as pd\n",
    "import numpy as np\n",
    "from atom3d.datasets import load_dataset\n",
    "from tqdm import tqdm\n",
    "import collections as col\n",
    "from collapse.utils import pdb_from_fname, deserialize\n",
    "from collapse.atom_info import aa_to_letter\n",
    "import matplotlib.pyplot as plt\n",
    "import seaborn as sns"
   ]
  },
  {
   "cell_type": "code",
   "execution_count": 2,
   "metadata": {},
   "outputs": [],
   "source": [
    "label_dict = {'LP/P': 'pathogenic', 'LB/B': 'benign', 'US': 'unknown'}\n",
    "mut_data = []\n",
    "with open('data/humsavar.txt') as f:\n",
    "    for i in range(44):\n",
    "        next(f)\n",
    "    for l in f:\n",
    "        gene, uniprot, _, variant, lab, snp, dz = l[:12].strip(), l[12:23].strip(), l[23:35].strip(), l[35:50].strip(), l[50:59].strip(), l[59:74].strip(), l[74:].strip()\n",
    "        if lab not in label_dict:\n",
    "            continue\n",
    "        label = label_dict[lab]\n",
    "        wt = variant[2:5]\n",
    "        mut = variant[-3:]\n",
    "        pos = int(variant[5:-3])\n",
    "        mut_data.append([uniprot, wt, pos, mut, label, dz])\n",
    "mut_data = pd.DataFrame(mut_data, columns=['uniprot', 'wt', 'pos', 'mut', 'label', 'disease'])"
   ]
  },
  {
   "cell_type": "code",
   "execution_count": 6,
   "metadata": {},
   "outputs": [],
   "source": [
    "uniprot_rows = mut_data.groupby('uniprot').groups"
   ]
  },
  {
   "cell_type": "code",
   "execution_count": 3,
   "metadata": {},
   "outputs": [
    {
     "data": {
      "text/html": [
       "<div>\n",
       "<style scoped>\n",
       "    .dataframe tbody tr th:only-of-type {\n",
       "        vertical-align: middle;\n",
       "    }\n",
       "\n",
       "    .dataframe tbody tr th {\n",
       "        vertical-align: top;\n",
       "    }\n",
       "\n",
       "    .dataframe thead th {\n",
       "        text-align: right;\n",
       "    }\n",
       "</style>\n",
       "<table border=\"1\" class=\"dataframe\">\n",
       "  <thead>\n",
       "    <tr style=\"text-align: right;\">\n",
       "      <th></th>\n",
       "      <th>uniprot</th>\n",
       "      <th>wt</th>\n",
       "      <th>pos</th>\n",
       "      <th>mut</th>\n",
       "      <th>label</th>\n",
       "      <th>disease</th>\n",
       "    </tr>\n",
       "  </thead>\n",
       "  <tbody>\n",
       "    <tr>\n",
       "      <th>0</th>\n",
       "      <td>P04217</td>\n",
       "      <td>His</td>\n",
       "      <td>52</td>\n",
       "      <td>Arg</td>\n",
       "      <td>benign</td>\n",
       "      <td>-</td>\n",
       "    </tr>\n",
       "    <tr>\n",
       "      <th>1</th>\n",
       "      <td>P04217</td>\n",
       "      <td>His</td>\n",
       "      <td>395</td>\n",
       "      <td>Arg</td>\n",
       "      <td>benign</td>\n",
       "      <td>-</td>\n",
       "    </tr>\n",
       "    <tr>\n",
       "      <th>2</th>\n",
       "      <td>Q9NQ94</td>\n",
       "      <td>Val</td>\n",
       "      <td>555</td>\n",
       "      <td>Met</td>\n",
       "      <td>benign</td>\n",
       "      <td>-</td>\n",
       "    </tr>\n",
       "    <tr>\n",
       "      <th>3</th>\n",
       "      <td>Q9NQ94</td>\n",
       "      <td>Ala</td>\n",
       "      <td>558</td>\n",
       "      <td>Ser</td>\n",
       "      <td>benign</td>\n",
       "      <td>-</td>\n",
       "    </tr>\n",
       "    <tr>\n",
       "      <th>4</th>\n",
       "      <td>P01023</td>\n",
       "      <td>Arg</td>\n",
       "      <td>704</td>\n",
       "      <td>His</td>\n",
       "      <td>benign</td>\n",
       "      <td>-</td>\n",
       "    </tr>\n",
       "    <tr>\n",
       "      <th>...</th>\n",
       "      <td>...</td>\n",
       "      <td>...</td>\n",
       "      <td>...</td>\n",
       "      <td>...</td>\n",
       "      <td>...</td>\n",
       "      <td>...</td>\n",
       "    </tr>\n",
       "    <tr>\n",
       "      <th>82407</th>\n",
       "      <td>Q8N402</td>\n",
       "      <td>Thr</td>\n",
       "      <td>131</td>\n",
       "      <td>Pro</td>\n",
       "      <td>benign</td>\n",
       "      <td>-</td>\n",
       "    </tr>\n",
       "    <tr>\n",
       "      <th>82408</th>\n",
       "      <td>Q96M66</td>\n",
       "      <td>Arg</td>\n",
       "      <td>37</td>\n",
       "      <td>His</td>\n",
       "      <td>benign</td>\n",
       "      <td>-</td>\n",
       "    </tr>\n",
       "    <tr>\n",
       "      <th>82409</th>\n",
       "      <td>Q96M66</td>\n",
       "      <td>Arg</td>\n",
       "      <td>171</td>\n",
       "      <td>Ser</td>\n",
       "      <td>benign</td>\n",
       "      <td>-</td>\n",
       "    </tr>\n",
       "    <tr>\n",
       "      <th>82410</th>\n",
       "      <td>Q9N2K0</td>\n",
       "      <td>Val</td>\n",
       "      <td>81</td>\n",
       "      <td>Leu</td>\n",
       "      <td>benign</td>\n",
       "      <td>-</td>\n",
       "    </tr>\n",
       "    <tr>\n",
       "      <th>82411</th>\n",
       "      <td>Q9N2K0</td>\n",
       "      <td>Phe</td>\n",
       "      <td>150</td>\n",
       "      <td>Leu</td>\n",
       "      <td>benign</td>\n",
       "      <td>-</td>\n",
       "    </tr>\n",
       "  </tbody>\n",
       "</table>\n",
       "<p>82412 rows × 6 columns</p>\n",
       "</div>"
      ],
      "text/plain": [
       "      uniprot   wt  pos  mut   label disease\n",
       "0      P04217  His   52  Arg  benign       -\n",
       "1      P04217  His  395  Arg  benign       -\n",
       "2      Q9NQ94  Val  555  Met  benign       -\n",
       "3      Q9NQ94  Ala  558  Ser  benign       -\n",
       "4      P01023  Arg  704  His  benign       -\n",
       "...       ...  ...  ...  ...     ...     ...\n",
       "82407  Q8N402  Thr  131  Pro  benign       -\n",
       "82408  Q96M66  Arg   37  His  benign       -\n",
       "82409  Q96M66  Arg  171  Ser  benign       -\n",
       "82410  Q9N2K0  Val   81  Leu  benign       -\n",
       "82411  Q9N2K0  Phe  150  Leu  benign       -\n",
       "\n",
       "[82412 rows x 6 columns]"
      ]
     },
     "execution_count": 3,
     "metadata": {},
     "output_type": "execute_result"
    }
   ],
   "source": [
    "mut_data"
   ]
  },
  {
   "cell_type": "code",
   "execution_count": 4,
   "metadata": {},
   "outputs": [
    {
     "data": {
      "text/plain": [
       "label\n",
       "benign        39654\n",
       "pathogenic    32627\n",
       "unknown       10131\n",
       "Name: count, dtype: int64"
      ]
     },
     "execution_count": 4,
     "metadata": {},
     "output_type": "execute_result"
    }
   ],
   "source": [
    "mut_data.value_counts('label')"
   ]
  },
  {
   "cell_type": "code",
   "execution_count": 5,
   "metadata": {},
   "outputs": [
    {
     "data": {
      "text/plain": [
       "13055"
      ]
     },
     "execution_count": 5,
     "metadata": {},
     "output_type": "execute_result"
    }
   ],
   "source": [
    "mut_data.uniprot.nunique()"
   ]
  },
  {
   "cell_type": "code",
   "execution_count": 4,
   "metadata": {},
   "outputs": [],
   "source": [
    "k = 50000\n",
    "clusterer = deserialize(f'data/pdb100_cluster_fit_{k}.pkl')"
   ]
  },
  {
   "cell_type": "code",
   "execution_count": 5,
   "metadata": {},
   "outputs": [
    {
     "data": {
      "text/plain": [
       "21834"
      ]
     },
     "execution_count": 5,
     "metadata": {},
     "output_type": "execute_result"
    }
   ],
   "source": [
    "human_proteome = load_dataset('/scratch/users/aderry/collapse/datasets/af2_human_proteome/full', 'lmdb')\n",
    "len(human_proteome)"
   ]
  },
  {
   "cell_type": "code",
   "execution_count": 105,
   "metadata": {},
   "outputs": [
    {
     "name": "stderr",
     "output_type": "stream",
     "text": [
      "100%|██████████| 21834/21834 [3:31:24<00:00,  1.72it/s]   \n"
     ]
    }
   ],
   "source": [
    "cluster_cts = np.zeros(k)\n",
    "cluster_mutations = col.defaultdict(list)\n",
    "uniprot_clusters = {}\n",
    "cluster_refs = col.defaultdict(list)\n",
    "for item in tqdm(human_proteome):\n",
    "    if item is None:\n",
    "        continue\n",
    "    afid, _ = pdb_from_fname(item['id'])\n",
    "    \n",
    "    high_conf_idx = np.array(item['confidence']) >= 70\n",
    "    if np.sum(high_conf_idx) == 0:\n",
    "        continue\n",
    "    af_resids = np.array(item['resids'])[high_conf_idx]\n",
    "    embeddings = item['embeddings'][high_conf_idx]\n",
    "    \n",
    "    clusters = clusterer.predict(embeddings)\n",
    "    uniprot_clusters[afid] = af_resids, clusters\n",
    "    np.add.at(cluster_cts, clusters, 1)\n",
    "    if afid in uniprot_rows:\n",
    "        wt = mut_data.loc[uniprot_rows[afid], 'wt'].values\n",
    "        pos = mut_data.loc[uniprot_rows[afid], 'pos'].values\n",
    "        mut = mut_data.loc[uniprot_rows[afid], 'mut'].values\n",
    "        labels = mut_data.loc[uniprot_rows[afid], 'label'].values\n",
    "        resids = [aa_to_letter(r.upper()) + str(p) for r,p in zip(wt, pos)]\n",
    "        resids_to_labels = dict(zip(resids, labels))\n",
    "        var_idx = np.isin(af_resids, resids)\n",
    "        var_resids = af_resids[var_idx]\n",
    "        var_labels = [resids_to_labels[v] for v in var_resids]\n",
    "        var_clusters = clusters[var_idx]\n",
    "        for i in range(len(var_clusters)):\n",
    "            cluster_mutations[var_clusters[i]].append(var_labels[i])\n",
    "            cluster_refs[var_clusters[i]].append(afid + '_' + var_resids[i])"
   ]
  },
  {
   "cell_type": "code",
   "execution_count": 106,
   "metadata": {},
   "outputs": [],
   "source": [
    "from collapse.utils import serialize\n",
    "serialize(cluster_cts, f'data/af2_human_cluster_cts_{k}.pkl')\n",
    "serialize(cluster_mutations, f'data/af2_human_cluster_variants_{k}.pkl')\n",
    "serialize(uniprot_clusters, f'data/af2_human_cluster_resids_{k}.pkl')\n",
    "serialize(cluster_refs, f'data/af2_human_cluster_variant_refs_{k}.pkl')"
   ]
  },
  {
   "cell_type": "code",
   "execution_count": 7,
   "metadata": {},
   "outputs": [],
   "source": [
    "k = 50000\n",
    "cluster_cts = deserialize(f'data/af2_human_cluster_cts_{k}.pkl')\n",
    "cluster_mutations = deserialize(f'data/af2_human_cluster_variants_{k}.pkl')\n",
    "uniprot_clusters = deserialize(f'data/af2_human_cluster_resids_{k}.pkl')\n",
    "cluster_refs = deserialize(f'data/af2_human_cluster_variant_refs_{k}.pkl')"
   ]
  },
  {
   "cell_type": "code",
   "execution_count": 8,
   "metadata": {},
   "outputs": [
    {
     "data": {
      "text/plain": [
       "23075"
      ]
     },
     "execution_count": 8,
     "metadata": {},
     "output_type": "execute_result"
    }
   ],
   "source": [
    "len(cluster_mutations)"
   ]
  },
  {
   "cell_type": "code",
   "execution_count": 108,
   "metadata": {},
   "outputs": [
    {
     "data": {
      "text/plain": [
       "2980.0"
      ]
     },
     "execution_count": 108,
     "metadata": {},
     "output_type": "execute_result"
    }
   ],
   "source": [
    "cluster_cts[24491]"
   ]
  },
  {
   "cell_type": "code",
   "execution_count": 109,
   "metadata": {},
   "outputs": [
    {
     "data": {
      "text/plain": [
       "['benign',\n",
       " 'pathogenic',\n",
       " 'pathogenic',\n",
       " 'pathogenic',\n",
       " 'pathogenic',\n",
       " 'pathogenic',\n",
       " 'pathogenic',\n",
       " 'pathogenic',\n",
       " 'benign',\n",
       " 'unknown',\n",
       " 'benign',\n",
       " 'pathogenic']"
      ]
     },
     "execution_count": 109,
     "metadata": {},
     "output_type": "execute_result"
    }
   ],
   "source": [
    "cluster_mutations[24491]"
   ]
  },
  {
   "cell_type": "code",
   "execution_count": 9,
   "metadata": {},
   "outputs": [
    {
     "data": {
      "text/plain": [
       "{'benign': 20377, 'pathogenic': 22571, 'unknown': 5419}"
      ]
     },
     "execution_count": 9,
     "metadata": {},
     "output_type": "execute_result"
    }
   ],
   "source": [
    "label_cts = {'benign': 0, 'pathogenic': 0, 'unknown': 0}\n",
    "for _,v in cluster_mutations.items():\n",
    "    ct = col.Counter(v)\n",
    "    for k in ct:\n",
    "        label_cts[k] += ct[k]\n",
    "label_cts"
   ]
  },
  {
   "cell_type": "code",
   "execution_count": 10,
   "metadata": {},
   "outputs": [
    {
     "name": "stdout",
     "output_type": "stream",
     "text": [
      "1.0\n"
     ]
    }
   ],
   "source": [
    "M = np.sum(list(label_cts.values()))\n",
    "n = label_cts['pathogenic']\n",
    "N = cluster_cts[24491]\n",
    "k = col.Counter(cluster_mutations[24491])['pathogenic']\n",
    "pval = hypergeom.sf(k, M, n, N)\n",
    "print(pval)"
   ]
  },
  {
   "cell_type": "code",
   "execution_count": 11,
   "metadata": {},
   "outputs": [],
   "source": [
    "from scipy.stats import hypergeom"
   ]
  },
  {
   "cell_type": "code",
   "execution_count": 12,
   "metadata": {},
   "outputs": [],
   "source": [
    "M = np.sum(list(label_cts.values()))\n",
    "n = label_cts['pathogenic']\n",
    "\n",
    "cluster_path_pvals = {}\n",
    "for clust, muts in cluster_mutations.items():\n",
    "    N = len(muts)\n",
    "    k = col.Counter(muts)['pathogenic']\n",
    "    pval = hypergeom.sf(k, M, n, N) \n",
    "    pval_corr = pval * len(cluster_mutations)\n",
    "    cluster_path_pvals[clust] = [pval, pval_corr, muts, float(k) / N]"
   ]
  },
  {
   "cell_type": "code",
   "execution_count": 13,
   "metadata": {},
   "outputs": [],
   "source": [
    "path_enrich = pd.DataFrame(cluster_path_pvals).T\n",
    "path_enrich.columns = ['pval', 'pval_corr', 'mutations', 'pct_pathogenic']\n",
    "path_enrich['n_mut'] = path_enrich.mutations.apply(len)"
   ]
  },
  {
   "cell_type": "code",
   "execution_count": 14,
   "metadata": {},
   "outputs": [
    {
     "data": {
      "text/html": [
       "<div>\n",
       "<style scoped>\n",
       "    .dataframe tbody tr th:only-of-type {\n",
       "        vertical-align: middle;\n",
       "    }\n",
       "\n",
       "    .dataframe tbody tr th {\n",
       "        vertical-align: top;\n",
       "    }\n",
       "\n",
       "    .dataframe thead th {\n",
       "        text-align: right;\n",
       "    }\n",
       "</style>\n",
       "<table border=\"1\" class=\"dataframe\">\n",
       "  <thead>\n",
       "    <tr style=\"text-align: right;\">\n",
       "      <th></th>\n",
       "      <th>pval</th>\n",
       "      <th>pval_corr</th>\n",
       "      <th>mutations</th>\n",
       "      <th>pct_pathogenic</th>\n",
       "      <th>n_mut</th>\n",
       "    </tr>\n",
       "  </thead>\n",
       "  <tbody>\n",
       "    <tr>\n",
       "      <th>7043</th>\n",
       "      <td>0.0</td>\n",
       "      <td>0.0</td>\n",
       "      <td>[pathogenic, pathogenic, pathogenic, pathogeni...</td>\n",
       "      <td>1.0</td>\n",
       "      <td>19</td>\n",
       "    </tr>\n",
       "    <tr>\n",
       "      <th>31037</th>\n",
       "      <td>0.0</td>\n",
       "      <td>0.0</td>\n",
       "      <td>[pathogenic, pathogenic, pathogenic, pathogeni...</td>\n",
       "      <td>1.0</td>\n",
       "      <td>9</td>\n",
       "    </tr>\n",
       "    <tr>\n",
       "      <th>23310</th>\n",
       "      <td>0.0</td>\n",
       "      <td>0.0</td>\n",
       "      <td>[pathogenic, pathogenic, pathogenic, pathogeni...</td>\n",
       "      <td>1.0</td>\n",
       "      <td>9</td>\n",
       "    </tr>\n",
       "    <tr>\n",
       "      <th>39542</th>\n",
       "      <td>0.0</td>\n",
       "      <td>0.0</td>\n",
       "      <td>[pathogenic, pathogenic, pathogenic, pathogeni...</td>\n",
       "      <td>1.0</td>\n",
       "      <td>8</td>\n",
       "    </tr>\n",
       "    <tr>\n",
       "      <th>48393</th>\n",
       "      <td>0.0</td>\n",
       "      <td>0.0</td>\n",
       "      <td>[pathogenic, pathogenic, pathogenic, pathogeni...</td>\n",
       "      <td>1.0</td>\n",
       "      <td>8</td>\n",
       "    </tr>\n",
       "    <tr>\n",
       "      <th>31407</th>\n",
       "      <td>0.0</td>\n",
       "      <td>0.0</td>\n",
       "      <td>[pathogenic, pathogenic, pathogenic, pathogeni...</td>\n",
       "      <td>1.0</td>\n",
       "      <td>8</td>\n",
       "    </tr>\n",
       "    <tr>\n",
       "      <th>160</th>\n",
       "      <td>0.0</td>\n",
       "      <td>0.0</td>\n",
       "      <td>[pathogenic, pathogenic, pathogenic, pathogeni...</td>\n",
       "      <td>1.0</td>\n",
       "      <td>7</td>\n",
       "    </tr>\n",
       "    <tr>\n",
       "      <th>48563</th>\n",
       "      <td>0.0</td>\n",
       "      <td>0.0</td>\n",
       "      <td>[pathogenic, pathogenic, pathogenic, pathogeni...</td>\n",
       "      <td>1.0</td>\n",
       "      <td>7</td>\n",
       "    </tr>\n",
       "    <tr>\n",
       "      <th>8771</th>\n",
       "      <td>0.0</td>\n",
       "      <td>0.0</td>\n",
       "      <td>[pathogenic, pathogenic, pathogenic, pathogeni...</td>\n",
       "      <td>1.0</td>\n",
       "      <td>7</td>\n",
       "    </tr>\n",
       "    <tr>\n",
       "      <th>47510</th>\n",
       "      <td>0.0</td>\n",
       "      <td>0.0</td>\n",
       "      <td>[pathogenic, pathogenic, pathogenic, pathogeni...</td>\n",
       "      <td>1.0</td>\n",
       "      <td>7</td>\n",
       "    </tr>\n",
       "    <tr>\n",
       "      <th>25011</th>\n",
       "      <td>0.0</td>\n",
       "      <td>0.0</td>\n",
       "      <td>[pathogenic, pathogenic, pathogenic, pathogeni...</td>\n",
       "      <td>1.0</td>\n",
       "      <td>7</td>\n",
       "    </tr>\n",
       "    <tr>\n",
       "      <th>4095</th>\n",
       "      <td>0.0</td>\n",
       "      <td>0.0</td>\n",
       "      <td>[pathogenic, pathogenic, pathogenic, pathogeni...</td>\n",
       "      <td>1.0</td>\n",
       "      <td>7</td>\n",
       "    </tr>\n",
       "    <tr>\n",
       "      <th>38836</th>\n",
       "      <td>0.0</td>\n",
       "      <td>0.0</td>\n",
       "      <td>[pathogenic, pathogenic, pathogenic, pathogeni...</td>\n",
       "      <td>1.0</td>\n",
       "      <td>7</td>\n",
       "    </tr>\n",
       "    <tr>\n",
       "      <th>31025</th>\n",
       "      <td>0.0</td>\n",
       "      <td>0.0</td>\n",
       "      <td>[pathogenic, pathogenic, pathogenic, pathogeni...</td>\n",
       "      <td>1.0</td>\n",
       "      <td>7</td>\n",
       "    </tr>\n",
       "    <tr>\n",
       "      <th>184</th>\n",
       "      <td>0.0</td>\n",
       "      <td>0.0</td>\n",
       "      <td>[pathogenic, pathogenic, pathogenic, pathogeni...</td>\n",
       "      <td>1.0</td>\n",
       "      <td>7</td>\n",
       "    </tr>\n",
       "    <tr>\n",
       "      <th>18585</th>\n",
       "      <td>0.0</td>\n",
       "      <td>0.0</td>\n",
       "      <td>[pathogenic, pathogenic, pathogenic, pathogeni...</td>\n",
       "      <td>1.0</td>\n",
       "      <td>7</td>\n",
       "    </tr>\n",
       "    <tr>\n",
       "      <th>44777</th>\n",
       "      <td>0.0</td>\n",
       "      <td>0.0</td>\n",
       "      <td>[pathogenic, pathogenic, pathogenic, pathogeni...</td>\n",
       "      <td>1.0</td>\n",
       "      <td>6</td>\n",
       "    </tr>\n",
       "    <tr>\n",
       "      <th>44065</th>\n",
       "      <td>0.0</td>\n",
       "      <td>0.0</td>\n",
       "      <td>[pathogenic, pathogenic, pathogenic, pathogeni...</td>\n",
       "      <td>1.0</td>\n",
       "      <td>6</td>\n",
       "    </tr>\n",
       "    <tr>\n",
       "      <th>14659</th>\n",
       "      <td>0.0</td>\n",
       "      <td>0.0</td>\n",
       "      <td>[pathogenic, pathogenic, pathogenic, pathogeni...</td>\n",
       "      <td>1.0</td>\n",
       "      <td>6</td>\n",
       "    </tr>\n",
       "    <tr>\n",
       "      <th>33252</th>\n",
       "      <td>0.0</td>\n",
       "      <td>0.0</td>\n",
       "      <td>[pathogenic, pathogenic, pathogenic, pathogeni...</td>\n",
       "      <td>1.0</td>\n",
       "      <td>6</td>\n",
       "    </tr>\n",
       "  </tbody>\n",
       "</table>\n",
       "</div>"
      ],
      "text/plain": [
       "      pval pval_corr                                          mutations  \\\n",
       "7043   0.0       0.0  [pathogenic, pathogenic, pathogenic, pathogeni...   \n",
       "31037  0.0       0.0  [pathogenic, pathogenic, pathogenic, pathogeni...   \n",
       "23310  0.0       0.0  [pathogenic, pathogenic, pathogenic, pathogeni...   \n",
       "39542  0.0       0.0  [pathogenic, pathogenic, pathogenic, pathogeni...   \n",
       "48393  0.0       0.0  [pathogenic, pathogenic, pathogenic, pathogeni...   \n",
       "31407  0.0       0.0  [pathogenic, pathogenic, pathogenic, pathogeni...   \n",
       "160    0.0       0.0  [pathogenic, pathogenic, pathogenic, pathogeni...   \n",
       "48563  0.0       0.0  [pathogenic, pathogenic, pathogenic, pathogeni...   \n",
       "8771   0.0       0.0  [pathogenic, pathogenic, pathogenic, pathogeni...   \n",
       "47510  0.0       0.0  [pathogenic, pathogenic, pathogenic, pathogeni...   \n",
       "25011  0.0       0.0  [pathogenic, pathogenic, pathogenic, pathogeni...   \n",
       "4095   0.0       0.0  [pathogenic, pathogenic, pathogenic, pathogeni...   \n",
       "38836  0.0       0.0  [pathogenic, pathogenic, pathogenic, pathogeni...   \n",
       "31025  0.0       0.0  [pathogenic, pathogenic, pathogenic, pathogeni...   \n",
       "184    0.0       0.0  [pathogenic, pathogenic, pathogenic, pathogeni...   \n",
       "18585  0.0       0.0  [pathogenic, pathogenic, pathogenic, pathogeni...   \n",
       "44777  0.0       0.0  [pathogenic, pathogenic, pathogenic, pathogeni...   \n",
       "44065  0.0       0.0  [pathogenic, pathogenic, pathogenic, pathogeni...   \n",
       "14659  0.0       0.0  [pathogenic, pathogenic, pathogenic, pathogeni...   \n",
       "33252  0.0       0.0  [pathogenic, pathogenic, pathogenic, pathogeni...   \n",
       "\n",
       "      pct_pathogenic  n_mut  \n",
       "7043             1.0     19  \n",
       "31037            1.0      9  \n",
       "23310            1.0      9  \n",
       "39542            1.0      8  \n",
       "48393            1.0      8  \n",
       "31407            1.0      8  \n",
       "160              1.0      7  \n",
       "48563            1.0      7  \n",
       "8771             1.0      7  \n",
       "47510            1.0      7  \n",
       "25011            1.0      7  \n",
       "4095             1.0      7  \n",
       "38836            1.0      7  \n",
       "31025            1.0      7  \n",
       "184              1.0      7  \n",
       "18585            1.0      7  \n",
       "44777            1.0      6  \n",
       "44065            1.0      6  \n",
       "14659            1.0      6  \n",
       "33252            1.0      6  "
      ]
     },
     "execution_count": 14,
     "metadata": {},
     "output_type": "execute_result"
    }
   ],
   "source": [
    "path_enrich.sort_values(['pval_corr', 'n_mut'], ascending=[True, False]).head(20)"
   ]
  },
  {
   "cell_type": "code",
   "execution_count": 20,
   "metadata": {},
   "outputs": [
    {
     "data": {
      "image/png": "[encoded data removed]",
      "text/plain": [
       "<Figure size 300x200 with 1 Axes>"
      ]
     },
     "metadata": {},
     "output_type": "display_data"
    }
   ],
   "source": [
    "sns.set(context='paper', style='white')\n",
    "plt.figure(figsize=(3,2))\n",
    "plt.hist(path_enrich['pct_pathogenic'], bins=50)\n",
    "plt.xlabel('% of mutations pathogenic')\n",
    "plt.ylabel('Number of clusters')\n",
    "plt.yscale('log')\n",
    "plt.savefig('./figures/cluster_pct_pathogenic.svg', dpi=300, bbox_inches='tight', format='svg')"
   ]
  },
  {
   "cell_type": "code",
   "execution_count": 21,
   "metadata": {},
   "outputs": [
    {
     "data": {
      "text/plain": [
       "13569"
      ]
     },
     "execution_count": 21,
     "metadata": {},
     "output_type": "execute_result"
    }
   ],
   "source": [
    "(path_enrich['pct_pathogenic'] > 0).sum()"
   ]
  },
  {
   "cell_type": "code",
   "execution_count": 19,
   "metadata": {},
   "outputs": [
    {
     "data": {
      "text/plain": [
       "(2056, 23075, 43)"
      ]
     },
     "execution_count": 19,
     "metadata": {},
     "output_type": "execute_result"
    }
   ],
   "source": [
    "sig = path_enrich[(path_enrich['pval_corr'] < 0.05) & (path_enrich['n_mut'] > 1)]\n",
    "len(sig), len(path_enrich), len(sig[sig['n_mut'] > 5])"
   ]
  },
  {
   "cell_type": "code",
   "execution_count": 18,
   "metadata": {},
   "outputs": [
    {
     "data": {
      "text/plain": [
       "Counter({2: 1406,\n",
       "         3: 418,\n",
       "         4: 128,\n",
       "         5: 61,\n",
       "         6: 21,\n",
       "         7: 10,\n",
       "         8: 3,\n",
       "         9: 2,\n",
       "         31: 1,\n",
       "         85: 1,\n",
       "         20: 1,\n",
       "         35: 1,\n",
       "         65: 1,\n",
       "         32: 1,\n",
       "         19: 1})"
      ]
     },
     "execution_count": 18,
     "metadata": {},
     "output_type": "execute_result"
    }
   ],
   "source": [
    "col.Counter(sig['n_mut'])"
   ]
  },
  {
   "cell_type": "code",
   "execution_count": 21,
   "metadata": {},
   "outputs": [],
   "source": [
    "pathogenic_clusters_5 = sig[sig['n_mut'] >= 5].index.tolist()\n",
    "pathogenic_clusters = sig.index.tolist()"
   ]
  },
  {
   "cell_type": "code",
   "execution_count": 20,
   "metadata": {},
   "outputs": [
    {
     "data": {
      "text/html": [
       "<div>\n",
       "<style scoped>\n",
       "    .dataframe tbody tr th:only-of-type {\n",
       "        vertical-align: middle;\n",
       "    }\n",
       "\n",
       "    .dataframe tbody tr th {\n",
       "        vertical-align: top;\n",
       "    }\n",
       "\n",
       "    .dataframe thead th {\n",
       "        text-align: right;\n",
       "    }\n",
       "</style>\n",
       "<table border=\"1\" class=\"dataframe\">\n",
       "  <thead>\n",
       "    <tr style=\"text-align: right;\">\n",
       "      <th></th>\n",
       "      <th>pval</th>\n",
       "      <th>pval_corr</th>\n",
       "      <th>mutations</th>\n",
       "      <th>pct_pathogenic</th>\n",
       "      <th>n_mut</th>\n",
       "    </tr>\n",
       "  </thead>\n",
       "  <tbody>\n",
       "    <tr>\n",
       "      <th>6044</th>\n",
       "      <td>0.0</td>\n",
       "      <td>0.0</td>\n",
       "      <td>[pathogenic, pathogenic, pathogenic, pathogeni...</td>\n",
       "      <td>0.964706</td>\n",
       "      <td>85</td>\n",
       "    </tr>\n",
       "    <tr>\n",
       "      <th>12238</th>\n",
       "      <td>0.0</td>\n",
       "      <td>0.0</td>\n",
       "      <td>[pathogenic, pathogenic, pathogenic, pathogeni...</td>\n",
       "      <td>0.984615</td>\n",
       "      <td>65</td>\n",
       "    </tr>\n",
       "    <tr>\n",
       "      <th>26414</th>\n",
       "      <td>0.0</td>\n",
       "      <td>0.0</td>\n",
       "      <td>[pathogenic, pathogenic, pathogenic, pathogeni...</td>\n",
       "      <td>0.971429</td>\n",
       "      <td>35</td>\n",
       "    </tr>\n",
       "    <tr>\n",
       "      <th>6563</th>\n",
       "      <td>0.000002</td>\n",
       "      <td>0.040722</td>\n",
       "      <td>[pathogenic, pathogenic, benign, pathogenic, p...</td>\n",
       "      <td>0.84375</td>\n",
       "      <td>32</td>\n",
       "    </tr>\n",
       "    <tr>\n",
       "      <th>11387</th>\n",
       "      <td>0.0</td>\n",
       "      <td>0.009237</td>\n",
       "      <td>[pathogenic, pathogenic, pathogenic, pathogeni...</td>\n",
       "      <td>0.870968</td>\n",
       "      <td>31</td>\n",
       "    </tr>\n",
       "    <tr>\n",
       "      <th>...</th>\n",
       "      <td>...</td>\n",
       "      <td>...</td>\n",
       "      <td>...</td>\n",
       "      <td>...</td>\n",
       "      <td>...</td>\n",
       "    </tr>\n",
       "    <tr>\n",
       "      <th>41532</th>\n",
       "      <td>0.0</td>\n",
       "      <td>0.0</td>\n",
       "      <td>[pathogenic, pathogenic, pathogenic, pathogeni...</td>\n",
       "      <td>1.0</td>\n",
       "      <td>5</td>\n",
       "    </tr>\n",
       "    <tr>\n",
       "      <th>18464</th>\n",
       "      <td>0.0</td>\n",
       "      <td>0.0</td>\n",
       "      <td>[pathogenic, pathogenic, pathogenic, pathogeni...</td>\n",
       "      <td>1.0</td>\n",
       "      <td>5</td>\n",
       "    </tr>\n",
       "    <tr>\n",
       "      <th>37660</th>\n",
       "      <td>0.0</td>\n",
       "      <td>0.0</td>\n",
       "      <td>[pathogenic, pathogenic, pathogenic, pathogeni...</td>\n",
       "      <td>1.0</td>\n",
       "      <td>5</td>\n",
       "    </tr>\n",
       "    <tr>\n",
       "      <th>20221</th>\n",
       "      <td>0.0</td>\n",
       "      <td>0.0</td>\n",
       "      <td>[pathogenic, pathogenic, pathogenic, pathogeni...</td>\n",
       "      <td>1.0</td>\n",
       "      <td>5</td>\n",
       "    </tr>\n",
       "    <tr>\n",
       "      <th>41913</th>\n",
       "      <td>0.0</td>\n",
       "      <td>0.0</td>\n",
       "      <td>[pathogenic, pathogenic, pathogenic, pathogeni...</td>\n",
       "      <td>1.0</td>\n",
       "      <td>5</td>\n",
       "    </tr>\n",
       "  </tbody>\n",
       "</table>\n",
       "<p>104 rows × 5 columns</p>\n",
       "</div>"
      ],
      "text/plain": [
       "           pval pval_corr                                          mutations  \\\n",
       "6044        0.0       0.0  [pathogenic, pathogenic, pathogenic, pathogeni...   \n",
       "12238       0.0       0.0  [pathogenic, pathogenic, pathogenic, pathogeni...   \n",
       "26414       0.0       0.0  [pathogenic, pathogenic, pathogenic, pathogeni...   \n",
       "6563   0.000002  0.040722  [pathogenic, pathogenic, benign, pathogenic, p...   \n",
       "11387       0.0  0.009237  [pathogenic, pathogenic, pathogenic, pathogeni...   \n",
       "...         ...       ...                                                ...   \n",
       "41532       0.0       0.0  [pathogenic, pathogenic, pathogenic, pathogeni...   \n",
       "18464       0.0       0.0  [pathogenic, pathogenic, pathogenic, pathogeni...   \n",
       "37660       0.0       0.0  [pathogenic, pathogenic, pathogenic, pathogeni...   \n",
       "20221       0.0       0.0  [pathogenic, pathogenic, pathogenic, pathogeni...   \n",
       "41913       0.0       0.0  [pathogenic, pathogenic, pathogenic, pathogeni...   \n",
       "\n",
       "      pct_pathogenic  n_mut  \n",
       "6044        0.964706     85  \n",
       "12238       0.984615     65  \n",
       "26414       0.971429     35  \n",
       "6563         0.84375     32  \n",
       "11387       0.870968     31  \n",
       "...              ...    ...  \n",
       "41532            1.0      5  \n",
       "18464            1.0      5  \n",
       "37660            1.0      5  \n",
       "20221            1.0      5  \n",
       "41913            1.0      5  \n",
       "\n",
       "[104 rows x 5 columns]"
      ]
     },
     "execution_count": 20,
     "metadata": {},
     "output_type": "execute_result"
    }
   ],
   "source": [
    "sig[sig['n_mut'] >= 5].sort_values('n_mut', ascending=False)"
   ]
  },
  {
   "cell_type": "code",
   "execution_count": 37,
   "metadata": {},
   "outputs": [],
   "source": [
    "cluster_id = 23310\n",
    "cluster_mut_df = []\n",
    "for uniprot_mut, lab in list(zip(cluster_refs[cluster_id], cluster_mutations[cluster_id])):\n",
    "    # print('\\n' + uniprot + '\\n' + '------')\n",
    "    uniprot, resid = uniprot_mut.split('_')\n",
    "    loc = int(resid[1:])\n",
    "    muts = mut_data.loc[uniprot_rows[uniprot]]\n",
    "    muts = muts[muts.pos == loc]\n",
    "    cluster_mut_df.append(muts)\n",
    "cluster_mut_df = pd.concat(cluster_mut_df)"
   ]
  },
  {
   "cell_type": "code",
   "execution_count": 38,
   "metadata": {},
   "outputs": [],
   "source": [
    "cluster_mut_df['variant'] = cluster_mut_df['wt'].apply(lambda x: aa_to_letter(x.upper())) + cluster_mut_df['pos'].astype(str) + cluster_mut_df['mut'].apply(lambda x: aa_to_letter(x.upper()))"
   ]
  },
  {
   "cell_type": "code",
   "execution_count": 39,
   "metadata": {},
   "outputs": [],
   "source": [
    "cluster_variants_df = pd.DataFrame([cluster_mut_df.groupby(['uniprot'])['variant'].apply(list), cluster_mut_df.groupby(['uniprot'])['label'].apply(list)]).T"
   ]
  },
  {
   "cell_type": "code",
   "execution_count": 40,
   "metadata": {},
   "outputs": [
    {
     "data": {
      "text/html": [
       "<div>\n",
       "<style scoped>\n",
       "    .dataframe tbody tr th:only-of-type {\n",
       "        vertical-align: middle;\n",
       "    }\n",
       "\n",
       "    .dataframe tbody tr th {\n",
       "        vertical-align: top;\n",
       "    }\n",
       "\n",
       "    .dataframe thead th {\n",
       "        text-align: right;\n",
       "    }\n",
       "</style>\n",
       "<table border=\"1\" class=\"dataframe\">\n",
       "  <thead>\n",
       "    <tr style=\"text-align: right;\">\n",
       "      <th></th>\n",
       "      <th>variant</th>\n",
       "      <th>label</th>\n",
       "    </tr>\n",
       "    <tr>\n",
       "      <th>uniprot</th>\n",
       "      <th></th>\n",
       "      <th></th>\n",
       "    </tr>\n",
       "  </thead>\n",
       "  <tbody>\n",
       "    <tr>\n",
       "      <th>P04629</th>\n",
       "      <td>[Y359C]</td>\n",
       "      <td>[pathogenic]</td>\n",
       "    </tr>\n",
       "    <tr>\n",
       "      <th>P11362</th>\n",
       "      <td>[Y99C, Y228D, Y339C]</td>\n",
       "      <td>[pathogenic, pathogenic, pathogenic]</td>\n",
       "    </tr>\n",
       "    <tr>\n",
       "      <th>P21802</th>\n",
       "      <td>[Y105C, Y340H, Y340C]</td>\n",
       "      <td>[pathogenic, pathogenic, pathogenic]</td>\n",
       "    </tr>\n",
       "    <tr>\n",
       "      <th>Q0ZGT2</th>\n",
       "      <td>[Y652C]</td>\n",
       "      <td>[pathogenic]</td>\n",
       "    </tr>\n",
       "    <tr>\n",
       "      <th>Q14896</th>\n",
       "      <td>[Y237S]</td>\n",
       "      <td>[pathogenic]</td>\n",
       "    </tr>\n",
       "    <tr>\n",
       "      <th>Q86TC9</th>\n",
       "      <td>[Y339F]</td>\n",
       "      <td>[pathogenic]</td>\n",
       "    </tr>\n",
       "  </tbody>\n",
       "</table>\n",
       "</div>"
      ],
      "text/plain": [
       "                       variant                                 label\n",
       "uniprot                                                             \n",
       "P04629                 [Y359C]                          [pathogenic]\n",
       "P11362    [Y99C, Y228D, Y339C]  [pathogenic, pathogenic, pathogenic]\n",
       "P21802   [Y105C, Y340H, Y340C]  [pathogenic, pathogenic, pathogenic]\n",
       "Q0ZGT2                 [Y652C]                          [pathogenic]\n",
       "Q14896                 [Y237S]                          [pathogenic]\n",
       "Q86TC9                 [Y339F]                          [pathogenic]"
      ]
     },
     "execution_count": 40,
     "metadata": {},
     "output_type": "execute_result"
    }
   ],
   "source": [
    "cluster_variants_df"
   ]
  },
  {
   "cell_type": "code",
   "execution_count": 29,
   "metadata": {},
   "outputs": [],
   "source": [
    "cluster_variants_df.to_csv(f'data/cluster{cluster_id}_variants.csv')"
   ]
  },
  {
   "cell_type": "code",
   "execution_count": 32,
   "metadata": {},
   "outputs": [
    {
     "name": "stdout",
     "output_type": "stream",
     "text": [
      "      uniprot   wt  pos  mut       label  \\\n",
      "22379  P22413  Asp  804  His  pathogenic   \n",
      "\n",
      "                                                 disease variant  \n",
      "22379  Arterial calcification of infancy, generalized...   D804H  \n",
      "      uniprot   wt  pos  mut       label  \\\n",
      "16477  P49747  Asp  290  Asn  pathogenic   \n",
      "16511  P49747  Asp  290  Gly  pathogenic   \n",
      "16514  P49747  Asp  317  Gly  pathogenic   \n",
      "16515  P49747  Asp  326  Gly  pathogenic   \n",
      "16516  P49747  Asp  326  Tyr  pathogenic   \n",
      "16480  P49747  Asp  342  Tyr  pathogenic   \n",
      "16482  P49747  Asp  361  Val  pathogenic   \n",
      "16483  P49747  Asp  361  Tyr  pathogenic   \n",
      "16519  P49747  Asp  374  Asn  pathogenic   \n",
      "16520  P49747  Asp  376  Asn  pathogenic   \n",
      "16521  P49747  Asp  378  Val  pathogenic   \n",
      "16522  P49747  Asp  385  Asn  pathogenic   \n",
      "16523  P49747  Asp  385  Tyr  pathogenic   \n",
      "16525  P49747  Asp  397  His  pathogenic   \n",
      "16486  P49747  Asp  408  Tyr  pathogenic   \n",
      "16507  P49747  Asp  420  Ala  pathogenic   \n",
      "16530  P49747  Asp  446  Asn  pathogenic   \n",
      "16492  P49747  Asp  473  Gly  pathogenic   \n",
      "16532  P49747  Asp  473  His  pathogenic   \n",
      "16533  P49747  Asp  475  Asn  pathogenic   \n",
      "16493  P49747  Asp  482  Gly  pathogenic   \n",
      "16535  P49747  Asp  507  Gly  pathogenic   \n",
      "16536  P49747  Asp  511  Gly  pathogenic   \n",
      "\n",
      "                                                 disease variant  \n",
      "16477          Pseudoachondroplasia (PSACH) [MIM:177170]   D290N  \n",
      "16511          Pseudoachondroplasia (PSACH) [MIM:177170]   D290G  \n",
      "16514  Multiple epiphyseal dysplasia 1 (EDM1) [MIM:13...   D317G  \n",
      "16515  Multiple epiphyseal dysplasia 1 (EDM1) [MIM:13...   D326G  \n",
      "16516          Pseudoachondroplasia (PSACH) [MIM:177170]   D326Y  \n",
      "16480  Multiple epiphyseal dysplasia 1 (EDM1) [MIM:13...   D342Y  \n",
      "16482  Multiple epiphyseal dysplasia 1 (EDM1) [MIM:13...   D361V  \n",
      "16483  Multiple epiphyseal dysplasia 1 (EDM1) [MIM:13...   D361Y  \n",
      "16519  Multiple epiphyseal dysplasia 1 (EDM1) [MIM:13...   D374N  \n",
      "16520  Multiple epiphyseal dysplasia 1 (EDM1) [MIM:13...   D376N  \n",
      "16521          Pseudoachondroplasia (PSACH) [MIM:177170]   D378V  \n",
      "16522  Multiple epiphyseal dysplasia 1 (EDM1) [MIM:13...   D385N  \n",
      "16523  Multiple epiphyseal dysplasia 1 (EDM1) [MIM:13...   D385Y  \n",
      "16525  Multiple epiphyseal dysplasia 1 (EDM1) [MIM:13...   D397H  \n",
      "16486  Multiple epiphyseal dysplasia 1 (EDM1) [MIM:13...   D408Y  \n",
      "16507  Multiple epiphyseal dysplasia 1 (EDM1) [MIM:13...   D420A  \n",
      "16530          Pseudoachondroplasia (PSACH) [MIM:177170]   D446N  \n",
      "16492          Pseudoachondroplasia (PSACH) [MIM:177170]   D473G  \n",
      "16532          Pseudoachondroplasia (PSACH) [MIM:177170]   D473H  \n",
      "16533          Pseudoachondroplasia (PSACH) [MIM:177170]   D475N  \n",
      "16493          Pseudoachondroplasia (PSACH) [MIM:177170]   D482G  \n",
      "16535          Pseudoachondroplasia (PSACH) [MIM:177170]   D507G  \n",
      "16536          Pseudoachondroplasia (PSACH) [MIM:177170]   D511G  \n"
     ]
    }
   ],
   "source": [
    "for u, df in cluster_mut_df.groupby('uniprot'):\n",
    "    print(df)"
   ]
  },
  {
   "cell_type": "code",
   "execution_count": 60,
   "metadata": {},
   "outputs": [
    {
     "data": {
      "text/plain": [
       "uniprot\n",
       "O75096     1\n",
       "P00740     3\n",
       "P01130     9\n",
       "P07225     4\n",
       "P07911     5\n",
       "P08709     2\n",
       "P23352     3\n",
       "P24043     1\n",
       "P35555    56\n",
       "P35556    12\n",
       "P46531     1\n",
       "P78504     1\n",
       "P82279     5\n",
       "Q5IJ48     1\n",
       "Q5T1H1     1\n",
       "Q6UXH8     1\n",
       "Q92832     1\n",
       "Q9HC23     1\n",
       "Q9NR61     1\n",
       "Name: variant, dtype: int64"
      ]
     },
     "execution_count": 60,
     "metadata": {},
     "output_type": "execute_result"
    }
   ],
   "source": [
    "cluster_variants_df['variant'].apply(len)"
   ]
  },
  {
   "cell_type": "code",
   "execution_count": 24,
   "metadata": {},
   "outputs": [
    {
     "name": "stderr",
     "output_type": "stream",
     "text": [
      "100%|██████████| 21834/21834 [3:01:51<00:00,  2.00it/s]  "
     ]
    },
    {
     "name": "stdout",
     "output_type": "stream",
     "text": [
      "9703 proteins of 21834 contain pathogenic clusters\n"
     ]
    },
    {
     "name": "stderr",
     "output_type": "stream",
     "text": [
      "\n"
     ]
    }
   ],
   "source": [
    "count_path = 0\n",
    "count_path_5 = 0\n",
    "pathogenic_residues = []\n",
    "for item in tqdm(human_proteome):\n",
    "    if item is None:\n",
    "        continue\n",
    "    afid, _ = pdb_from_fname(item['id'])\n",
    "    \n",
    "    high_conf_idx = np.array(item['confidence']) >= 70\n",
    "    if np.sum(high_conf_idx) == 0:\n",
    "        continue\n",
    "    af_resids = np.array(item['resids'])[high_conf_idx]\n",
    "    embeddings = item['embeddings'][high_conf_idx]\n",
    "    \n",
    "    clusters = clusterer.predict(embeddings)\n",
    "    # if np.any(np.isin(clusters, pathogenic_clusters)):\n",
    "    #     count_path += 1\n",
    "    pathogenic_pos = np.isin(clusters, pathogenic_clusters_5)\n",
    "    pathogenic_resids = af_resids[pathogenic_pos]\n",
    "    pathogenic_residues.extend([[afid, r] for r in pathogenic_resids])\n",
    "    if np.any(pathogenic_pos):\n",
    "        count_path_5 += 1\n",
    "print(f'{count_path_5} proteins of {len(human_proteome)} contain pathogenic clusters')"
   ]
  },
  {
   "cell_type": "code",
   "execution_count": 25,
   "metadata": {},
   "outputs": [
    {
     "data": {
      "text/plain": [
       "39383"
      ]
     },
     "execution_count": 25,
     "metadata": {},
     "output_type": "execute_result"
    }
   ],
   "source": [
    "len(pathogenic_residues)"
   ]
  },
  {
   "cell_type": "code",
   "execution_count": 27,
   "metadata": {},
   "outputs": [],
   "source": [
    "pd.DataFrame(pathogenic_residues, columns=['uniprot', 'resid']).to_csv('data/human_possible_pathogenic_resids.csv', index=False)"
   ]
  },
  {
   "cell_type": "code",
   "execution_count": null,
   "metadata": {},
   "outputs": [],
   "source": []
  }
 ],
 "metadata": {
  "kernelspec": {
   "display_name": "Python 3 (ipykernel)",
   "language": "python",
   "name": "python3"
  },
  "language_info": {
   "codemirror_mode": {
    "name": "ipython",
    "version": 3
   },
   "file_extension": ".py",
   "mimetype": "text/x-python",
   "name": "python",
   "nbconvert_exporter": "python",
   "pygments_lexer": "ipython3",
   "version": "3.10.12"
  }
 },
 "nbformat": 4,
 "nbformat_minor": 4
}
